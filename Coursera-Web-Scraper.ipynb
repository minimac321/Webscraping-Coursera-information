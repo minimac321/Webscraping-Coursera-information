{
 "cells": [
  {
   "cell_type": "markdown",
   "id": "39559bdb-113c-450a-aa9e-6be7d4cab7e4",
   "metadata": {},
   "source": [
    "# Webscraper\n",
    "\n",
    "- What is a webscraper?\n",
    "- Why is it useful?\n",
    "- Is it legal?"
   ]
  },
  {
   "cell_type": "markdown",
   "id": "a2f9c422-ef5b-4bd3-b5c4-472b23e2ec4d",
   "metadata": {},
   "source": [
    "## Project Assumptions\n",
    "\n",
    "The projects asked the candidate to fetch all Coursera \"course\" information however the types of learning tracks are split into 3 categories:\n",
    "- Course\n",
    "- Specialization\n",
    "- Professional Certificate\n",
    "\n",
    "This adds an additional layer of complexity since we need to fetch the course names and type and deal with then appropriately.\n",
    "\n",
    "I will assume that we are fetching courses from the main page (https://www.coursera.org/browse/data-science) and not any of the pages which contains only a single category of courses.\n",
    "\n",
    "This is important as each of those 3 categories have different UI components. So we need to ensure that the data is fetched from unique locations depending on the category. An easy way to identify which of these the course is, is by the url. The following key word follows the category within the URL after the \"coursera.org/\" (see example url):\n",
    "- Course ('learn')\n",
    "    - https://www.coursera.org/learn/foundations-data\n",
    "- Specialization ('specializations')\n",
    "    - https://www.coursera.org/specializations/deep-learning\n",
    "- Professional Certificate ('professional-certificates')\n",
    "    - https://www.coursera.org/professional-certificates/ibm-data-science"
   ]
  },
  {
   "cell_type": "code",
   "execution_count": 310,
   "id": "84873304-4578-49f1-bf86-fe1f648b21f0",
   "metadata": {},
   "outputs": [
    {
     "name": "stdout",
     "output_type": "stream",
     "text": [
      "The autoreload extension is already loaded. To reload it, use:\n",
      "  %reload_ext autoreload\n"
     ]
    }
   ],
   "source": [
    "%load_ext autoreload\n",
    "%autoreload 2"
   ]
  },
  {
   "cell_type": "code",
   "execution_count": 311,
   "id": "97a1b92f-550b-4adf-9712-217a3d76c558",
   "metadata": {},
   "outputs": [
    {
     "name": "stderr",
     "output_type": "stream",
     "text": [
      "/tmp/ipykernel_58031/1885008668.py:9: DeprecationWarning: Importing display from IPython.core.display is deprecated since IPython 7.14, please import from IPython display\n",
      "  from IPython.core.display import display, HTML\n"
     ]
    }
   ],
   "source": [
    "# Imports\n",
    "\n",
    "from bs4 import BeautifulSoup\n",
    "import requests\n",
    "import os\n",
    "import pandas as pd\n",
    "\n",
    "from IPython.display import Image, Markdown\n",
    "from IPython.core.display import display, HTML\n",
    "\n",
    "import urllib.parse\n",
    "from selenium import webdriver"
   ]
  },
  {
   "cell_type": "markdown",
   "id": "a89390a1-7030-4887-b111-bb1dbdc910de",
   "metadata": {
    "jp-MarkdownHeadingCollapsed": true,
    "tags": []
   },
   "source": [
    "## Example of how to fetch and display HTML using BeautifulSoup"
   ]
  },
  {
   "cell_type": "code",
   "execution_count": 15,
   "id": "b7ac1b93-86ba-4294-b15c-c37933f9a8ca",
   "metadata": {
    "tags": []
   },
   "outputs": [],
   "source": [
    "url = \"https://web.ics.purdue.edu/~gchopra/class/public/pages/webdesign/05_simple.html\"\n",
    "page = requests.get(url)\n",
    "soup = BeautifulSoup(page.content, 'html.parser')\n",
    "\n",
    "\n",
    "display = False\n",
    "\n",
    "if display:\n",
    "    HTML(str(soup))"
   ]
  },
  {
   "cell_type": "markdown",
   "id": "5cce2b45-ca21-47fd-bb61-5a18ed7258a8",
   "metadata": {},
   "source": [
    "## Subproblem - Extract info from selected page"
   ]
  },
  {
   "cell_type": "markdown",
   "id": "94217824-3d10-42c4-a6cc-5db25ac6ea83",
   "metadata": {},
   "source": [
    "- Course name\n",
    "- Course provider\n",
    "- Course description\n",
    "- num of Students enrolled\n"
   ]
  },
  {
   "cell_type": "code",
   "execution_count": 314,
   "id": "1bd5c161-f940-44f5-ab74-994a4c6659bc",
   "metadata": {
    "tags": []
   },
   "outputs": [],
   "source": [
    "def get_rating_info(html_soup):   \n",
    "    overall_ratings_str = html_soup.find_all(\"span\", {\"data-test\": \"number-star-rating\"})[0].text\n",
    "    overall_rating = float(overall_ratings_str.replace(\"stars\", \"\"))\n",
    "\n",
    "    ratings_str = html_soup.find_all(\"span\", {\"data-test\": \"ratings-count-without-asterisks\"})[0].text\n",
    "    rating = int(ratings_str.split(\" \")[0].replace(\",\", \"\"))\n",
    "\n",
    "    rating_info = {\n",
    "        \"rating\": rating, \n",
    "        \"overall_rating\": overall_rating,\n",
    "    }\n",
    "\n",
    "    return rating_info\n",
    "\n",
    "\n",
    "def get_enrolled_info(html_soup):\n",
    "    num_students_enrolled_str = html_soup.find_all(\"div\", {\"class\": \"_1fpiay2\"})[0].find(\"strong\").find(\"span\").text\n",
    "    num_students_enrolled = int(num_students_enrolled_str.replace(\",\", \"\"))\n",
    "    \n",
    "    enrolled_info = {\n",
    "        \"num_students_enrolled\": num_students_enrolled, \n",
    "    }\n",
    "    \n",
    "    return enrolled_info\n",
    "    \n",
    "    \n",
    "def  get_descirption_info(html_soup, specialized_url=False):\n",
    "    \n",
    "    if specialized_url:\n",
    "        course_description = specialized_html_soup.find_all(\"div\", {\"class\": \"description\"})[0].text\n",
    "        \n",
    "    else:\n",
    "        course_description = html_soup.find_all(\"div\", {\"class\": \"m-t-1 description\"})[0].find(\"div\", {\"class\": \"content-inner\"}).find(\"p\").text\n",
    "\n",
    "    description_info = {\n",
    "        \"course_description\": course_description, \n",
    "\n",
    "    }\n",
    "    return description_info\n",
    "    \n",
    "    \n",
    "def get_provider_info(html_soup):\n",
    "    course_provider = html_soup.find_all(\"h3\", {\"class\": \"headline-4-text bold rc-Partner__title\"})[0].text\n",
    "    \n",
    "    provider_info = {\n",
    "        \"course_provider\": course_provider, \n",
    "\n",
    "    }\n",
    "    return provider_info\n",
    "\n",
    "    \n",
    "    \n",
    "def fetch_course_info_from_course_url(course_url):\n",
    "    if \"specializations\" ==  course_url.split(\"/\")[3]:\n",
    "        specialized_url = True\n",
    "    else:\n",
    "        specialized_url = False\n",
    "    print(\"specialized_url\", specialized_url)\n",
    "    \n",
    "    response = requests.get(url)\n",
    "    html_soup = BeautifulSoup(response.content, 'html.parser')\n",
    "    \n",
    "    # Get Rating Info\n",
    "    rating_info = get_rating_info(html_soup)\n",
    "\n",
    "    # Get Enrolled Info\n",
    "    enrolled_info = get_enrolled_info(html_soup)\n",
    "    \n",
    "    # Get Provider Info\n",
    "    provider_info = get_provider_info(html_soup)\n",
    "    \n",
    "    # Get Descritpion Info\n",
    "    description_info = get_descirption_info(html_soup, specialized_url)\n",
    "    \n",
    "    # Merge all information into a single dictionary\n",
    "    merged_dict = {**rating_info, **enrolled_info, **description_info, **provider_info}\n",
    "    \n",
    "    return merged_dict\n",
    "    "
   ]
  },
  {
   "cell_type": "code",
   "execution_count": 315,
   "id": "6787f78a-02d0-410b-8a2d-2bf462e2f0d0",
   "metadata": {
    "collapsed": true,
    "jupyter": {
     "outputs_hidden": true
    },
    "tags": []
   },
   "outputs": [
    {
     "name": "stdout",
     "output_type": "stream",
     "text": [
      "specialized_url False\n",
      "{'rating': 1121, 'overall_rating': 4.7, 'num_students_enrolled': 70978, 'course_description': 'Process mining is the missing link between model-based process analysis and data-oriented analysis techniques. Through concrete data sets and easy to use software the course provides data science knowledge that can be applied directly to analyze and improve processes in a variety of domains.', 'course_provider': 'Eindhoven University of Technology'}\n",
      "specialized_url False\n",
      "{'rating': 631, 'overall_rating': 4.7, 'num_students_enrolled': 31599, 'course_description': 'This course will provide learners with an introduction to research data management and sharing. After completing this course, learners will understand the diversity of data and their management needs across the research data lifecycle, be able to identify the components of good data management plans, and be familiar with best practices for working with data including the organization, documentation, and storage and security of data. Learners will also understand the impetus and importance of archiving and sharing data as well as how to assess the trustworthiness of repositories. ', 'course_provider': 'The University of North Carolina at Chapel Hill'}\n",
      "specialized_url True\n",
      "{'rating': 389, 'overall_rating': 4.6, 'num_students_enrolled': 13213, 'course_description': 'Development environments might not have the exact requirements as production environments. Moving data science and machine learning projects from idea to production requires state-of-the-art skills. You need to architect and implement your projects for scale and operational efficiency. Data science is an interdisciplinary field that combines domain knowledge with mathematics, statistics, data visualization, and programming skills.\\n\\nThe Practical Data Science Specialization brings together these disciplines using purpose-built ML tools in the AWS cloud. It helps you develop the practical skills to effectively deploy your data science projects and overcome challenges at each step of the ML workflow using Amazon SageMaker.\\n\\nThis Specialization is designed for data-focused developers, scientists, and analysts familiar with the Python and SQL programming languages who want to learn how to build, train, and deploy scalable, end-to-end ML pipelines - both automated and human-in-the-loop - in the AWS cloud.\\n\\nEach of the 10 weeks features a comprehensive lab developed specifically for this Specialization that provides hands-on experience with state-of-the-art algorithms for natural language processing (NLP) and natural language understanding (NLU), including BERT and FastText using Amazon SageMaker.', 'course_provider': 'DeepLearning.AI'}\n"
     ]
    }
   ],
   "source": [
    "\n",
    "url = \"https://www.coursera.org/learn/process-mining\"\n",
    "merged_dict = fetch_course_info_from_course_url(url)\n",
    "print(merged_dict)\n",
    "\n",
    "url = \"https://www.coursera.org/learn/data-management\"\n",
    "merged_dict = fetch_course_info_from_course_url(url)\n",
    "print(merged_dict)\n",
    "\n",
    "url = \"https://www.coursera.org/specializations/practical-data-science\"\n",
    "merged_dict = fetch_course_info_from_course_url(url)\n",
    "print(merged_dict)"
   ]
  },
  {
   "cell_type": "code",
   "execution_count": 316,
   "id": "b26c42e6-a1a6-4896-9149-042c0cf12141",
   "metadata": {},
   "outputs": [
    {
     "data": {
      "text/plain": [
       "'https://www.coursera.org/browse/data-science'"
      ]
     },
     "execution_count": 316,
     "metadata": {},
     "output_type": "execute_result"
    }
   ],
   "source": [
    "selected_category_name_str = \"Data Science\"\n",
    "selected_category_name = selected_category_name_str.lower().replace(\" \", \"-\")\n",
    "\n",
    "possible_categories = [\"physical-science-and-engineering\", \"data-science\", \"business\"]\n",
    "\n",
    "assert selected_category_name in possible_categories\n",
    "\n",
    "course_url = f\"https://www.coursera.org/browse/{selected_category_name}\"\n",
    "course_url"
   ]
  },
  {
   "cell_type": "code",
   "execution_count": 415,
   "id": "e25b2c1c-d02a-49b8-8a53-445a3c1a1b2b",
   "metadata": {},
   "outputs": [],
   "source": [
    "\n",
    "def value_to_float(value):\n",
    "    if type(value) == float or type(value) == int:\n",
    "        return value\n",
    "    \n",
    "    value = value.replace(\",\", \".\").upper()\n",
    "    if 'K' in value:\n",
    "        if len(value) > 1:\n",
    "            return float(value.replace('K', '')) * 1000\n",
    "        return 1000.0\n",
    "    if 'M' in value:\n",
    "        if len(value) > 1:\n",
    "            return float(value.replace('M', '')) * 1000000\n",
    "        return 1000000.0\n",
    "    if 'B' in value:\n",
    "        return float(value.replace('B', '')) * 1000000000\n",
    "    \n",
    "    return 0.0\n",
    "\n",
    "\n",
    "def get_coursera_page_url_by_page_number(page_number, topic):\n",
    "    url_str = f\"https://www.coursera.org/search?page={page_number}&index=prod_all_launched_products_term_optimization\"\n",
    "    topic_url_parsed_str = \"&topic=\" + urllib.parse.quote(topic)\n",
    "    full_url = url_str + topic_url_parsed_str\n",
    "    return full_url\n",
    "\n",
    "\n",
    "def get_course_attributes(card):\n",
    "    course_info = {}\n",
    "\n",
    "    course_name = card.find(\"h2\", {\"class\": \"cds-119 css-bku0rr cds-121\"}).text\n",
    "\n",
    "    course_info[\"name\"] = course_name \n",
    "    course_info[\"rating\"] = float(card.find(\"p\", {\"class\": \"cds-119 css-zl0kzj cds-121\"}).text)\n",
    "    course_review_data = card.find_all(\"p\", {\"class\": \"cds-119 css-14d8ngk cds-121\"})[0].text\n",
    "\n",
    "    # Set Course Reviews\n",
    "    course_reviews_str = course_review_data.replace(\" reviews\", \"\").replace(\"(\", \"\").replace(\")\", \"\")\n",
    "\n",
    "    course_num_of_reviewers = value_to_float(course_reviews_str)\n",
    "    course_info[\"num_of_reviewers\"] = course_num_of_reviewers    \n",
    "\n",
    "    return course_info\n",
    "\n",
    "def get_all_course_card_info(course_card_soup):\n",
    "    course_cards = course_card_soup.find_all(\"div\", {\"class\": \"css-ilhc4l\"})\n",
    "    \n",
    "    course_information_list = []\n",
    "    \n",
    "    for card in course_cards:\n",
    "        course_dict = get_course_attributes(card)\n",
    "        course_information_list.append(course_dict)\n",
    "    \n",
    "    return course_information_list\n",
    "\n",
    "# get_coursera_page_url_by_page_number(page_number=1, topic=\"Math and Logic\")\n",
    "# 'https://www.coursera.org/search?page=1&index=prod_all_launched_products_term_optimization&topic=Math%20and%20Logic'"
   ]
  },
  {
   "cell_type": "markdown",
   "id": "d36fbbdb-41d3-4b52-b18d-e6ca05aef69f",
   "metadata": {
    "jp-MarkdownHeadingCollapsed": true,
    "tags": []
   },
   "source": [
    "## Individual Card"
   ]
  },
  {
   "cell_type": "code",
   "execution_count": 413,
   "id": "23f2d431-9823-4142-b9a6-0f122dacb363",
   "metadata": {},
   "outputs": [
    {
     "ename": "IndexError",
     "evalue": "list index out of range",
     "output_type": "error",
     "traceback": [
      "\u001b[0;31m---------------------------------------------------------------------------\u001b[0m",
      "\u001b[0;31mIndexError\u001b[0m                                Traceback (most recent call last)",
      "Cell \u001b[0;32mIn [413], line 8\u001b[0m\n\u001b[1;32m      4\u001b[0m course_card_soup \u001b[38;5;241m=\u001b[39m BeautifulSoup(html, \u001b[38;5;124m'\u001b[39m\u001b[38;5;124mlxml\u001b[39m\u001b[38;5;124m'\u001b[39m)\n\u001b[1;32m      6\u001b[0m course_cards \u001b[38;5;241m=\u001b[39m course_card_soup\u001b[38;5;241m.\u001b[39mfind_all(\u001b[38;5;124m\"\u001b[39m\u001b[38;5;124mdiv\u001b[39m\u001b[38;5;124m\"\u001b[39m, {\u001b[38;5;124m\"\u001b[39m\u001b[38;5;124mclass\u001b[39m\u001b[38;5;124m\"\u001b[39m: \u001b[38;5;124m\"\u001b[39m\u001b[38;5;124mcss-ilhc4l\u001b[39m\u001b[38;5;124m\"\u001b[39m})\n\u001b[0;32m----> 8\u001b[0m card \u001b[38;5;241m=\u001b[39m \u001b[43mcourse_cards\u001b[49m\u001b[43m[\u001b[49m\u001b[38;5;241;43m0\u001b[39;49m\u001b[43m]\u001b[49m\n\u001b[1;32m     10\u001b[0m course_data_objs \u001b[38;5;241m=\u001b[39m card\u001b[38;5;241m.\u001b[39mfind_all(\u001b[38;5;124m\"\u001b[39m\u001b[38;5;124mp\u001b[39m\u001b[38;5;124m\"\u001b[39m, {\u001b[38;5;124m\"\u001b[39m\u001b[38;5;124mclass\u001b[39m\u001b[38;5;124m\"\u001b[39m: \u001b[38;5;124m\"\u001b[39m\u001b[38;5;124mcds-119 css-14d8ngk cds-121\u001b[39m\u001b[38;5;124m\"\u001b[39m})\n\u001b[1;32m     11\u001b[0m course_data_objs\n",
      "\u001b[0;31mIndexError\u001b[0m: list index out of range"
     ]
    }
   ],
   "source": [
    "url = get_coursera_page_url_by_page_number(1, topic)\n",
    "browser.get(url)\n",
    "html = browser.page_source\n",
    "course_card_soup = BeautifulSoup(html, 'lxml')\n",
    "\n",
    "course_cards = course_card_soup.find_all(\"div\", {\"class\": \"css-ilhc4l\"})\n",
    "\n",
    "card = course_cards[0]\n",
    "\n",
    "course_data_objs = card.find_all(\"p\", {\"class\": \"cds-119 css-14d8ngk cds-121\"})\n",
    "course_data_objs"
   ]
  },
  {
   "cell_type": "code",
   "execution_count": 412,
   "id": "8e3be9d0-1610-4f0d-be1c-7f5e3d897246",
   "metadata": {},
   "outputs": [
    {
     "data": {
      "text/plain": [
       "[]"
      ]
     },
     "execution_count": 412,
     "metadata": {},
     "output_type": "execute_result"
    }
   ],
   "source": [
    "# course_data_objs = card.find_all(\"p\", {\"class\": \"css-ilhc4l\"})\n",
    "# course_data_objs"
   ]
  },
  {
   "cell_type": "markdown",
   "id": "853e0534-25ec-4383-b56e-e8a7da09c74e",
   "metadata": {},
   "source": [
    "## Full Code"
   ]
  },
  {
   "cell_type": "code",
   "execution_count": 398,
   "id": "15bdf182-0dab-4777-ad26-a1e44aa57d5b",
   "metadata": {
    "tags": []
   },
   "outputs": [
    {
     "name": "stdout",
     "output_type": "stream",
     "text": [
      "page_number: 1\n",
      "url https://www.coursera.org/search?page=1&index=prod_all_launched_products_term_optimization&topic=Data%20Science\n",
      "course_review_data (92.1k reviews)\n",
      "course_reviews_str 92.1k\n",
      "value 92.1K\n",
      "course_dict {'name': 'Google Data Analytics', 'rating': 4.8, 'num_of_reviewers': 92100.0}\n",
      "course_review_data (103.2k reviews)\n",
      "course_reviews_str 103.2k\n",
      "value 103.2K\n",
      "course_dict {'name': 'IBM Data Science', 'rating': 4.6, 'num_of_reviewers': 103200.0}\n",
      "course_review_data (58.3k reviews)\n",
      "course_reviews_str 58.3k\n",
      "value 58.3K\n",
      "course_dict {'name': 'IBM Data Analyst', 'rating': 4.6, 'num_of_reviewers': 58300.0}\n",
      "course_review_data (5.7k reviews)\n",
      "course_reviews_str 5.7k\n",
      "value 5.7K\n",
      "course_dict {'name': 'Machine Learning', 'rating': 4.9, 'num_of_reviewers': 5700.0}\n",
      "course_review_data (75.2k reviews)\n",
      "course_reviews_str 75.2k\n",
      "value 75.2K\n",
      "course_dict {'name': 'Introduction to Data Science', 'rating': 4.6, 'num_of_reviewers': 75200.0}\n",
      "course_review_data (51.2k reviews)\n",
      "course_reviews_str 51.2k\n",
      "value 51.2K\n",
      "course_dict {'name': 'Data Science Fundamentals with Python and SQL', 'rating': 4.5, 'num_of_reviewers': 51200.0}\n",
      "course_review_data (136.8k reviews)\n",
      "course_reviews_str 136.8k\n",
      "value 136.8K\n",
      "course_dict {'name': 'Deep Learning', 'rating': 4.8, 'num_of_reviewers': 136800.0}\n",
      "course_review_data (69.2k reviews)\n",
      "course_reviews_str 69.2k\n",
      "value 69.2K\n",
      "course_dict {'name': 'IBM AI Foundations for Business', 'rating': 4.7, 'num_of_reviewers': 69200.0}\n",
      "course_review_data (41.9k reviews)\n",
      "course_reviews_str 41.9k\n",
      "value 41.9K\n",
      "course_dict {'name': 'Applied Data Science', 'rating': 4.6, 'num_of_reviewers': 41900.0}\n",
      "course_review_data (13.6k reviews)\n",
      "course_reviews_str 13.6k\n",
      "value 13.6K\n",
      "course_dict {'name': 'IBM Data Analytics with Excel and R', 'rating': 4.7, 'num_of_reviewers': 13600.0}\n",
      "course_review_data (22.2k reviews)\n",
      "course_reviews_str 22.2k\n",
      "value 22.2K\n",
      "course_dict {'name': 'IBM & Darden Digital Strategy', 'rating': 4.7, 'num_of_reviewers': 22200.0}\n",
      "course_review_data (13.2k reviews)\n",
      "course_reviews_str 13.2k\n",
      "value 13.2K\n",
      "course_dict {'name': 'Data Analysis and Visualization Foundations', 'rating': 4.7, 'num_of_reviewers': 13200.0}\n",
      "page_number: 2\n",
      "url https://www.coursera.org/search?page=2&index=prod_all_launched_products_term_optimization&topic=Data%20Science\n",
      "course_review_data (67.1k reviews)\n",
      "course_reviews_str 67.1k\n",
      "value 67.1K\n",
      "course_dict {'name': 'Foundations: Data, Data, Everywhere', 'rating': 4.8, 'num_of_reviewers': 67100.0}\n",
      "course_review_data (40.9k reviews)\n",
      "course_reviews_str 40.9k\n",
      "value 40.9K\n",
      "course_dict {'name': 'IBM Applied AI', 'rating': 4.6, 'num_of_reviewers': 40900.0}\n",
      "course_review_data (5k reviews)\n",
      "course_reviews_str 5k\n",
      "value 5K\n",
      "course_dict {'name': 'Supervised Machine Learning: Regression and Classification', 'rating': 4.9, 'num_of_reviewers': 5000.0}\n",
      "course_review_data (22.8k reviews)\n",
      "course_reviews_str 22.8k\n",
      "value 22.8K\n",
      "course_dict {'name': 'DeepLearning.AI TensorFlow Developer', 'rating': 4.7, 'num_of_reviewers': 22800.0}\n",
      "course_review_data (2.6k reviews)\n",
      "course_reviews_str 2.6k\n",
      "value 2.6K\n",
      "course_dict {'name': 'Machine Learning Engineering for Production (MLOps)', 'rating': 4.7, 'num_of_reviewers': 2600.0}\n",
      "course_review_data (20.1k reviews)\n",
      "course_reviews_str 20.1k\n",
      "value 20.1K\n",
      "course_dict {'name': 'Ask Questions to Make Data-Driven Decisions', 'rating': 4.7, 'num_of_reviewers': 20100.0}\n",
      "course_review_data (14.8k reviews)\n",
      "course_reviews_str 14.8k\n",
      "value 14.8K\n",
      "course_dict {'name': 'Learn SQL Basics for Data Science', 'rating': 4.6, 'num_of_reviewers': 14800.0}\n",
      "course_review_data (4.8k reviews)\n",
      "course_reviews_str 4.8k\n",
      "value 4.8K\n",
      "course_dict {'name': 'Natural Language Processing', 'rating': 4.6, 'num_of_reviewers': 4800.0}\n",
      "course_review_data (15.5k reviews)\n",
      "course_reviews_str 15.5k\n",
      "value 15.5K\n",
      "course_dict {'name': 'IBM AI Engineering', 'rating': 4.6, 'num_of_reviewers': 15500.0}\n",
      "course_review_data (948 reviews)\n",
      "course_reviews_str 948\n",
      "value 948\n",
      "course_dict {'name': 'AI in Healthcare', 'rating': 4.7, 'num_of_reviewers': 0.0}\n",
      "course_review_data (17k reviews)\n",
      "course_reviews_str 17k\n",
      "value 17K\n",
      "course_dict {'name': 'Business Analytics', 'rating': 4.6, 'num_of_reviewers': 17000.0}\n",
      "course_review_data (17.5k reviews)\n",
      "course_reviews_str 17.5k\n",
      "value 17.5K\n",
      "course_dict {'name': 'Preparing for Google Cloud Certification: Cloud Data Engineer', 'rating': 4.6, 'num_of_reviewers': 17500.0}\n"
     ]
    },
    {
     "data": {
      "text/html": [
       "<div>\n",
       "<style scoped>\n",
       "    .dataframe tbody tr th:only-of-type {\n",
       "        vertical-align: middle;\n",
       "    }\n",
       "\n",
       "    .dataframe tbody tr th {\n",
       "        vertical-align: top;\n",
       "    }\n",
       "\n",
       "    .dataframe thead th {\n",
       "        text-align: right;\n",
       "    }\n",
       "</style>\n",
       "<table border=\"1\" class=\"dataframe\">\n",
       "  <thead>\n",
       "    <tr style=\"text-align: right;\">\n",
       "      <th></th>\n",
       "      <th>name</th>\n",
       "      <th>rating</th>\n",
       "      <th>num_of_reviewers</th>\n",
       "      <th>category</th>\n",
       "    </tr>\n",
       "  </thead>\n",
       "  <tbody>\n",
       "    <tr>\n",
       "      <th>0</th>\n",
       "      <td>Google Data Analytics</td>\n",
       "      <td>4.8</td>\n",
       "      <td>92100.0</td>\n",
       "      <td>Data Science</td>\n",
       "    </tr>\n",
       "    <tr>\n",
       "      <th>1</th>\n",
       "      <td>IBM Data Science</td>\n",
       "      <td>4.6</td>\n",
       "      <td>103200.0</td>\n",
       "      <td>Data Science</td>\n",
       "    </tr>\n",
       "    <tr>\n",
       "      <th>2</th>\n",
       "      <td>IBM Data Analyst</td>\n",
       "      <td>4.6</td>\n",
       "      <td>58300.0</td>\n",
       "      <td>Data Science</td>\n",
       "    </tr>\n",
       "    <tr>\n",
       "      <th>3</th>\n",
       "      <td>Machine Learning</td>\n",
       "      <td>4.9</td>\n",
       "      <td>5700.0</td>\n",
       "      <td>Data Science</td>\n",
       "    </tr>\n",
       "    <tr>\n",
       "      <th>4</th>\n",
       "      <td>Introduction to Data Science</td>\n",
       "      <td>4.6</td>\n",
       "      <td>75200.0</td>\n",
       "      <td>Data Science</td>\n",
       "    </tr>\n",
       "  </tbody>\n",
       "</table>\n",
       "</div>"
      ],
      "text/plain": [
       "                           name  rating  num_of_reviewers      category\n",
       "0         Google Data Analytics     4.8           92100.0  Data Science\n",
       "1              IBM Data Science     4.6          103200.0  Data Science\n",
       "2              IBM Data Analyst     4.6           58300.0  Data Science\n",
       "3              Machine Learning     4.9            5700.0  Data Science\n",
       "4  Introduction to Data Science     4.6           75200.0  Data Science"
      ]
     },
     "execution_count": 398,
     "metadata": {},
     "output_type": "execute_result"
    }
   ],
   "source": [
    "topic = \"Data Science\"\n",
    "\n",
    "list_of_courses = []\n",
    "browser = webdriver.Chrome()\n",
    "\n",
    "for page_number in range(1,3):\n",
    "    print(f\"page_number: {page_number}\")\n",
    "    url = get_coursera_page_url_by_page_number(page_number, topic)\n",
    "    print(\"url\", url)\n",
    "\n",
    "    browser.get(url)\n",
    "    html = browser.page_source\n",
    "    course_card_soup = BeautifulSoup(html, 'lxml')\n",
    "    \n",
    "    # Check if we have more results\n",
    "    results_are_finished = course_card_soup.find(\"div\", {\"data-e2e\": \"NumberOfResultsSection\"}).text == \"No results found for your search\"\n",
    "    \n",
    "    # This works!\n",
    "    if results_are_finished:\n",
    "        print(\"!!! Breaking !!!\")\n",
    "        break\n",
    "    \n",
    "    course_information_list = get_all_course_card_info(course_card_soup) \n",
    "    list_of_courses.extend(course_information_list)\n"
   ]
  },
  {
   "cell_type": "code",
   "execution_count": 403,
   "id": "073d24e2-40df-41e2-b85a-b3dce040c9e7",
   "metadata": {},
   "outputs": [
    {
     "name": "stdout",
     "output_type": "stream",
     "text": [
      "(24, 4)\n"
     ]
    }
   ],
   "source": [
    "courses_df = pd.DataFrame(list_of_courses)\n",
    "courses_df[\"category\"] = topic\n",
    "courses_df.head()\n",
    "print(courses_df.shape)"
   ]
  },
  {
   "cell_type": "code",
   "execution_count": 418,
   "id": "62561727-24d9-4d9c-acbd-ac8e8d694340",
   "metadata": {},
   "outputs": [],
   "source": [
    "courses_df.to_csv(f\"{topic.lower().replace(' ', '-')}_course_info.csv\", index=False)"
   ]
  },
  {
   "cell_type": "markdown",
   "id": "e9d3ddc2-fe9f-4b48-be1c-862c5e7bb392",
   "metadata": {},
   "source": [
    "## Save to Server"
   ]
  },
  {
   "cell_type": "code",
   "execution_count": 385,
   "id": "315894fb-0e26-4d43-b6ad-8d1b347bea0d",
   "metadata": {},
   "outputs": [],
   "source": [
    "from pydrive.auth import GoogleAuth\n",
    "from pydrive.drive import GoogleDrive\n"
   ]
  },
  {
   "cell_type": "code",
   "execution_count": 386,
   "id": "87dd0289-2ffc-40a3-987b-0613728177ed",
   "metadata": {},
   "outputs": [
    {
     "ename": "InvalidConfigError",
     "evalue": "Invalid client secrets file ('Error opening file', 'client_secrets.json', 'No such file or directory', 2)",
     "output_type": "error",
     "traceback": [
      "\u001b[0;31m---------------------------------------------------------------------------\u001b[0m",
      "\u001b[0;31mFileNotFoundError\u001b[0m                         Traceback (most recent call last)",
      "File \u001b[0;32m~/.pyenv/versions/3.9.5/envs/webscraper-3.9.5/lib/python3.9/site-packages/oauth2client/clientsecrets.py:121\u001b[0m, in \u001b[0;36m_loadfile\u001b[0;34m(filename)\u001b[0m\n\u001b[1;32m    120\u001b[0m \u001b[38;5;28;01mtry\u001b[39;00m:\n\u001b[0;32m--> 121\u001b[0m     \u001b[38;5;28;01mwith\u001b[39;00m \u001b[38;5;28;43mopen\u001b[39;49m\u001b[43m(\u001b[49m\u001b[43mfilename\u001b[49m\u001b[43m,\u001b[49m\u001b[43m \u001b[49m\u001b[38;5;124;43m'\u001b[39;49m\u001b[38;5;124;43mr\u001b[39;49m\u001b[38;5;124;43m'\u001b[39;49m\u001b[43m)\u001b[49m \u001b[38;5;28;01mas\u001b[39;00m fp:\n\u001b[1;32m    122\u001b[0m         obj \u001b[38;5;241m=\u001b[39m json\u001b[38;5;241m.\u001b[39mload(fp)\n",
      "\u001b[0;31mFileNotFoundError\u001b[0m: [Errno 2] No such file or directory: 'client_secrets.json'",
      "\nDuring handling of the above exception, another exception occurred:\n",
      "\u001b[0;31mInvalidClientSecretsError\u001b[0m                 Traceback (most recent call last)",
      "File \u001b[0;32m~/.pyenv/versions/3.9.5/envs/webscraper-3.9.5/lib/python3.9/site-packages/pydrive/auth.py:386\u001b[0m, in \u001b[0;36mGoogleAuth.LoadClientConfigFile\u001b[0;34m(self, client_config_file)\u001b[0m\n\u001b[1;32m    385\u001b[0m \u001b[38;5;28;01mtry\u001b[39;00m:\n\u001b[0;32m--> 386\u001b[0m   client_type, client_info \u001b[38;5;241m=\u001b[39m \u001b[43mclientsecrets\u001b[49m\u001b[38;5;241;43m.\u001b[39;49m\u001b[43mloadfile\u001b[49m\u001b[43m(\u001b[49m\u001b[43mclient_config_file\u001b[49m\u001b[43m)\u001b[49m\n\u001b[1;32m    387\u001b[0m \u001b[38;5;28;01mexcept\u001b[39;00m clientsecrets\u001b[38;5;241m.\u001b[39mInvalidClientSecretsError \u001b[38;5;28;01mas\u001b[39;00m error:\n",
      "File \u001b[0;32m~/.pyenv/versions/3.9.5/envs/webscraper-3.9.5/lib/python3.9/site-packages/oauth2client/clientsecrets.py:165\u001b[0m, in \u001b[0;36mloadfile\u001b[0;34m(filename, cache)\u001b[0m\n\u001b[1;32m    164\u001b[0m \u001b[38;5;28;01mif\u001b[39;00m \u001b[38;5;129;01mnot\u001b[39;00m cache:\n\u001b[0;32m--> 165\u001b[0m     \u001b[38;5;28;01mreturn\u001b[39;00m \u001b[43m_loadfile\u001b[49m\u001b[43m(\u001b[49m\u001b[43mfilename\u001b[49m\u001b[43m)\u001b[49m\n\u001b[1;32m    167\u001b[0m obj \u001b[38;5;241m=\u001b[39m cache\u001b[38;5;241m.\u001b[39mget(filename, namespace\u001b[38;5;241m=\u001b[39m_SECRET_NAMESPACE)\n",
      "File \u001b[0;32m~/.pyenv/versions/3.9.5/envs/webscraper-3.9.5/lib/python3.9/site-packages/oauth2client/clientsecrets.py:124\u001b[0m, in \u001b[0;36m_loadfile\u001b[0;34m(filename)\u001b[0m\n\u001b[1;32m    123\u001b[0m \u001b[38;5;28;01mexcept\u001b[39;00m \u001b[38;5;167;01mIOError\u001b[39;00m \u001b[38;5;28;01mas\u001b[39;00m exc:\n\u001b[0;32m--> 124\u001b[0m     \u001b[38;5;28;01mraise\u001b[39;00m InvalidClientSecretsError(\u001b[38;5;124m'\u001b[39m\u001b[38;5;124mError opening file\u001b[39m\u001b[38;5;124m'\u001b[39m, exc\u001b[38;5;241m.\u001b[39mfilename,\n\u001b[1;32m    125\u001b[0m                                     exc\u001b[38;5;241m.\u001b[39mstrerror, exc\u001b[38;5;241m.\u001b[39merrno)\n\u001b[1;32m    126\u001b[0m \u001b[38;5;28;01mreturn\u001b[39;00m _validate_clientsecrets(obj)\n",
      "\u001b[0;31mInvalidClientSecretsError\u001b[0m: ('Error opening file', 'client_secrets.json', 'No such file or directory', 2)",
      "\nDuring handling of the above exception, another exception occurred:\n",
      "\u001b[0;31mInvalidConfigError\u001b[0m                        Traceback (most recent call last)",
      "Cell \u001b[0;32mIn [386], line 3\u001b[0m\n\u001b[1;32m      1\u001b[0m \u001b[38;5;66;03m# access the drive\u001b[39;00m\n\u001b[1;32m      2\u001b[0m gauth \u001b[38;5;241m=\u001b[39m GoogleAuth()\n\u001b[0;32m----> 3\u001b[0m \u001b[43mgauth\u001b[49m\u001b[38;5;241;43m.\u001b[39;49m\u001b[43mLocalWebserverAuth\u001b[49m\u001b[43m(\u001b[49m\u001b[43m)\u001b[49m\n\u001b[1;32m      5\u001b[0m drive \u001b[38;5;241m=\u001b[39m GoogleDrive(gauth)\n",
      "File \u001b[0;32m~/.pyenv/versions/3.9.5/envs/webscraper-3.9.5/lib/python3.9/site-packages/pydrive/auth.py:113\u001b[0m, in \u001b[0;36mCheckAuth.<locals>._decorated\u001b[0;34m(self, *args, **kwargs)\u001b[0m\n\u001b[1;32m    111\u001b[0m   \u001b[38;5;28mself\u001b[39m\u001b[38;5;241m.\u001b[39mLoadCredentials()\n\u001b[1;32m    112\u001b[0m \u001b[38;5;28;01mif\u001b[39;00m \u001b[38;5;28mself\u001b[39m\u001b[38;5;241m.\u001b[39mflow \u001b[38;5;129;01mis\u001b[39;00m \u001b[38;5;28;01mNone\u001b[39;00m:\n\u001b[0;32m--> 113\u001b[0m   \u001b[38;5;28;43mself\u001b[39;49m\u001b[38;5;241;43m.\u001b[39;49m\u001b[43mGetFlow\u001b[49m\u001b[43m(\u001b[49m\u001b[43m)\u001b[49m\n\u001b[1;32m    114\u001b[0m \u001b[38;5;28;01mif\u001b[39;00m \u001b[38;5;28mself\u001b[39m\u001b[38;5;241m.\u001b[39mcredentials \u001b[38;5;129;01mis\u001b[39;00m \u001b[38;5;28;01mNone\u001b[39;00m:\n\u001b[1;32m    115\u001b[0m   code \u001b[38;5;241m=\u001b[39m decoratee(\u001b[38;5;28mself\u001b[39m, \u001b[38;5;241m*\u001b[39margs, \u001b[38;5;241m*\u001b[39m\u001b[38;5;241m*\u001b[39mkwargs)\n",
      "File \u001b[0;32m~/.pyenv/versions/3.9.5/envs/webscraper-3.9.5/lib/python3.9/site-packages/pydrive/auth.py:443\u001b[0m, in \u001b[0;36mGoogleAuth.GetFlow\u001b[0;34m(self)\u001b[0m\n\u001b[1;32m    437\u001b[0m \u001b[38;5;124;03m\"\"\"Gets Flow object from client configuration.\u001b[39;00m\n\u001b[1;32m    438\u001b[0m \n\u001b[1;32m    439\u001b[0m \u001b[38;5;124;03m:raises: InvalidConfigError\u001b[39;00m\n\u001b[1;32m    440\u001b[0m \u001b[38;5;124;03m\"\"\"\u001b[39;00m\n\u001b[1;32m    441\u001b[0m \u001b[38;5;28;01mif\u001b[39;00m \u001b[38;5;129;01mnot\u001b[39;00m \u001b[38;5;28mall\u001b[39m(config \u001b[38;5;129;01min\u001b[39;00m \u001b[38;5;28mself\u001b[39m\u001b[38;5;241m.\u001b[39mclient_config \\\n\u001b[1;32m    442\u001b[0m            \u001b[38;5;28;01mfor\u001b[39;00m config \u001b[38;5;129;01min\u001b[39;00m \u001b[38;5;28mself\u001b[39m\u001b[38;5;241m.\u001b[39mCLIENT_CONFIGS_LIST):\n\u001b[0;32m--> 443\u001b[0m   \u001b[38;5;28;43mself\u001b[39;49m\u001b[38;5;241;43m.\u001b[39;49m\u001b[43mLoadClientConfig\u001b[49m\u001b[43m(\u001b[49m\u001b[43m)\u001b[49m\n\u001b[1;32m    444\u001b[0m constructor_kwargs \u001b[38;5;241m=\u001b[39m {\n\u001b[1;32m    445\u001b[0m     \u001b[38;5;124m'\u001b[39m\u001b[38;5;124mredirect_uri\u001b[39m\u001b[38;5;124m'\u001b[39m: \u001b[38;5;28mself\u001b[39m\u001b[38;5;241m.\u001b[39mclient_config[\u001b[38;5;124m'\u001b[39m\u001b[38;5;124mredirect_uri\u001b[39m\u001b[38;5;124m'\u001b[39m],\n\u001b[1;32m    446\u001b[0m     \u001b[38;5;124m'\u001b[39m\u001b[38;5;124mauth_uri\u001b[39m\u001b[38;5;124m'\u001b[39m: \u001b[38;5;28mself\u001b[39m\u001b[38;5;241m.\u001b[39mclient_config[\u001b[38;5;124m'\u001b[39m\u001b[38;5;124mauth_uri\u001b[39m\u001b[38;5;124m'\u001b[39m],\n\u001b[1;32m    447\u001b[0m     \u001b[38;5;124m'\u001b[39m\u001b[38;5;124mtoken_uri\u001b[39m\u001b[38;5;124m'\u001b[39m: \u001b[38;5;28mself\u001b[39m\u001b[38;5;241m.\u001b[39mclient_config[\u001b[38;5;124m'\u001b[39m\u001b[38;5;124mtoken_uri\u001b[39m\u001b[38;5;124m'\u001b[39m],\n\u001b[1;32m    448\u001b[0m }\n\u001b[1;32m    449\u001b[0m \u001b[38;5;28;01mif\u001b[39;00m \u001b[38;5;28mself\u001b[39m\u001b[38;5;241m.\u001b[39mclient_config[\u001b[38;5;124m'\u001b[39m\u001b[38;5;124mrevoke_uri\u001b[39m\u001b[38;5;124m'\u001b[39m] \u001b[38;5;129;01mis\u001b[39;00m \u001b[38;5;129;01mnot\u001b[39;00m \u001b[38;5;28;01mNone\u001b[39;00m:\n",
      "File \u001b[0;32m~/.pyenv/versions/3.9.5/envs/webscraper-3.9.5/lib/python3.9/site-packages/pydrive/auth.py:366\u001b[0m, in \u001b[0;36mGoogleAuth.LoadClientConfig\u001b[0;34m(self, backend)\u001b[0m\n\u001b[1;32m    364\u001b[0m     \u001b[38;5;28;01mraise\u001b[39;00m InvalidConfigError(\u001b[38;5;124m'\u001b[39m\u001b[38;5;124mPlease specify client config backend\u001b[39m\u001b[38;5;124m'\u001b[39m)\n\u001b[1;32m    365\u001b[0m \u001b[38;5;28;01mif\u001b[39;00m backend \u001b[38;5;241m==\u001b[39m \u001b[38;5;124m'\u001b[39m\u001b[38;5;124mfile\u001b[39m\u001b[38;5;124m'\u001b[39m:\n\u001b[0;32m--> 366\u001b[0m   \u001b[38;5;28;43mself\u001b[39;49m\u001b[38;5;241;43m.\u001b[39;49m\u001b[43mLoadClientConfigFile\u001b[49m\u001b[43m(\u001b[49m\u001b[43m)\u001b[49m\n\u001b[1;32m    367\u001b[0m \u001b[38;5;28;01melif\u001b[39;00m backend \u001b[38;5;241m==\u001b[39m \u001b[38;5;124m'\u001b[39m\u001b[38;5;124msettings\u001b[39m\u001b[38;5;124m'\u001b[39m:\n\u001b[1;32m    368\u001b[0m   \u001b[38;5;28mself\u001b[39m\u001b[38;5;241m.\u001b[39mLoadClientConfigSettings()\n",
      "File \u001b[0;32m~/.pyenv/versions/3.9.5/envs/webscraper-3.9.5/lib/python3.9/site-packages/pydrive/auth.py:388\u001b[0m, in \u001b[0;36mGoogleAuth.LoadClientConfigFile\u001b[0;34m(self, client_config_file)\u001b[0m\n\u001b[1;32m    386\u001b[0m   client_type, client_info \u001b[38;5;241m=\u001b[39m clientsecrets\u001b[38;5;241m.\u001b[39mloadfile(client_config_file)\n\u001b[1;32m    387\u001b[0m \u001b[38;5;28;01mexcept\u001b[39;00m clientsecrets\u001b[38;5;241m.\u001b[39mInvalidClientSecretsError \u001b[38;5;28;01mas\u001b[39;00m error:\n\u001b[0;32m--> 388\u001b[0m   \u001b[38;5;28;01mraise\u001b[39;00m InvalidConfigError(\u001b[38;5;124m'\u001b[39m\u001b[38;5;124mInvalid client secrets file \u001b[39m\u001b[38;5;132;01m%s\u001b[39;00m\u001b[38;5;124m'\u001b[39m \u001b[38;5;241m%\u001b[39m error)\n\u001b[1;32m    389\u001b[0m \u001b[38;5;28;01mif\u001b[39;00m \u001b[38;5;129;01mnot\u001b[39;00m client_type \u001b[38;5;129;01min\u001b[39;00m (clientsecrets\u001b[38;5;241m.\u001b[39mTYPE_WEB,\n\u001b[1;32m    390\u001b[0m                        clientsecrets\u001b[38;5;241m.\u001b[39mTYPE_INSTALLED):\n\u001b[1;32m    391\u001b[0m   \u001b[38;5;28;01mraise\u001b[39;00m InvalidConfigError(\u001b[38;5;124m'\u001b[39m\u001b[38;5;124mUnknown client_type of client config file\u001b[39m\u001b[38;5;124m'\u001b[39m)\n",
      "\u001b[0;31mInvalidConfigError\u001b[0m: Invalid client secrets file ('Error opening file', 'client_secrets.json', 'No such file or directory', 2)"
     ]
    }
   ],
   "source": [
    "# access the drive\n",
    "gauth = GoogleAuth()\n",
    "gauth.LocalWebserverAuth()\n",
    "\n",
    "drive = GoogleDrive(gauth)"
   ]
  },
  {
   "cell_type": "code",
   "execution_count": null,
   "id": "af538df1-809a-47df-9152-6d490d3ea9e0",
   "metadata": {},
   "outputs": [],
   "source": [
    "\n",
    "# the file you want to upload, here simple example\n",
    "f = drive.CreateFile()\n",
    "f.SetContentFile('course_category_15-10-2022.csv')\n",
    "\n",
    "# upload the file\n",
    "f.Upload()\n",
    "print(f'title: {f['title']}, mimeType: {f['mimeType']}')\n",
    "\n",
    "# read all files, the newly uploaded file will be there\n",
    "file_list = drive.ListFile({'q': \"'root' in parents and trashed=false\"}).GetList()\n",
    "for file1 in file_list:\n",
    "    print(f'title: {file1['title']}, mimeType: {file1['mimeType']}')\n"
   ]
  },
  {
   "cell_type": "code",
   "execution_count": null,
   "id": "83d2c344-bb5a-4411-899e-ba6b5443c7b2",
   "metadata": {},
   "outputs": [],
   "source": [
    "# Look into using Google Drive as a server\n",
    "\n",
    "import gspread\n",
    "import os\n",
    "gc = gspread.oauth(credentials_filename='/users/krzysztofpaszta/credentials.json')\n",
    "\n",
    "os.chdir('/users/krzysztofpaszta/CSVtoGD')\n",
    "\n",
    "files = os.listdir()\n",
    "\n",
    "for filename in files:\n",
    "    if filename.split(\".\")[1] == \"csv\":\n",
    "        sh = gc.create(filename.split(\".\")[0]+' TTF')\n",
    "        content = open(filename, 'r').read().encode('utf-8') \n",
    "        gc.import_csv(sh.id, content)"
   ]
  },
  {
   "cell_type": "code",
   "execution_count": null,
   "id": "1b5eb66e-c75c-4c9a-8038-28048e936fdc",
   "metadata": {},
   "outputs": [],
   "source": []
  },
  {
   "cell_type": "code",
   "execution_count": null,
   "id": "0d264018-b6ed-4e6e-be4f-0b1588fb0f1f",
   "metadata": {},
   "outputs": [],
   "source": []
  },
  {
   "cell_type": "markdown",
   "id": "36c4eb59-59f7-4720-a920-9c77433b4cf3",
   "metadata": {
    "jp-MarkdownHeadingCollapsed": true,
    "tags": []
   },
   "source": [
    "## Connect to a server"
   ]
  },
  {
   "cell_type": "code",
   "execution_count": 383,
   "id": "c25702d9-10e1-4efd-9b9a-c3ac046e7824",
   "metadata": {},
   "outputs": [],
   "source": [
    "import pyodbc\n"
   ]
  },
  {
   "cell_type": "code",
   "execution_count": 384,
   "id": "ed2d0c4f-e4c5-42c5-b641-8387e115a0c8",
   "metadata": {},
   "outputs": [
    {
     "data": {
      "text/plain": [
       "[]"
      ]
     },
     "execution_count": 384,
     "metadata": {},
     "output_type": "execute_result"
    }
   ],
   "source": [
    "pyodbc.drivers()"
   ]
  },
  {
   "cell_type": "code",
   "execution_count": 381,
   "id": "e3df50f3-b3d3-4639-aa55-ddedb08c09a6",
   "metadata": {},
   "outputs": [
    {
     "ename": "Error",
     "evalue": "('01000', \"[01000] [unixODBC][Driver Manager]Can't open lib 'SQL Server' : file not found (0) (SQLDriverConnect)\")",
     "output_type": "error",
     "traceback": [
      "\u001b[0;31m---------------------------------------------------------------------------\u001b[0m",
      "\u001b[0;31mError\u001b[0m                                     Traceback (most recent call last)",
      "Cell \u001b[0;32mIn [381], line 3\u001b[0m\n\u001b[1;32m      1\u001b[0m \u001b[38;5;28;01mimport\u001b[39;00m \u001b[38;5;21;01mpyodbc\u001b[39;00m\n\u001b[0;32m----> 3\u001b[0m conn \u001b[38;5;241m=\u001b[39m \u001b[43mpyodbc\u001b[49m\u001b[38;5;241;43m.\u001b[39;49m\u001b[43mconnect\u001b[49m\u001b[43m(\u001b[49m\u001b[38;5;124;43m'\u001b[39;49m\u001b[38;5;124;43mDriver=\u001b[39;49m\u001b[38;5;124;43m{\u001b[39;49m\u001b[38;5;124;43mSQL Server};\u001b[39;49m\u001b[38;5;124;43m'\u001b[39;49m\n\u001b[1;32m      4\u001b[0m \u001b[43m                      \u001b[49m\u001b[38;5;124;43m'\u001b[39;49m\u001b[38;5;124;43mServer=RON\u001b[39;49m\u001b[38;5;124;43m\\\u001b[39;49m\u001b[38;5;124;43mSQLEXPRESS;\u001b[39;49m\u001b[38;5;124;43m'\u001b[39;49m\n\u001b[1;32m      5\u001b[0m \u001b[43m                      \u001b[49m\u001b[38;5;124;43m'\u001b[39;49m\u001b[38;5;124;43mDatabase=test_database;\u001b[39;49m\u001b[38;5;124;43m'\u001b[39;49m\n\u001b[1;32m      6\u001b[0m \u001b[43m                      \u001b[49m\u001b[38;5;124;43m'\u001b[39;49m\u001b[38;5;124;43mTrusted_Connection=yes;\u001b[39;49m\u001b[38;5;124;43m'\u001b[39;49m\u001b[43m)\u001b[49m\n\u001b[1;32m      7\u001b[0m cursor \u001b[38;5;241m=\u001b[39m conn\u001b[38;5;241m.\u001b[39mcursor()\n",
      "\u001b[0;31mError\u001b[0m: ('01000', \"[01000] [unixODBC][Driver Manager]Can't open lib 'SQL Server' : file not found (0) (SQLDriverConnect)\")"
     ]
    }
   ],
   "source": [
    "\n",
    "\n",
    "conn = pyodbc.connect('Driver={SQL Server};'\n",
    "                      'Server=RON\\SQLEXPRESS;'\n",
    "                      'Database=test_database;'\n",
    "                      'Trusted_Connection=yes;')\n",
    "cursor = conn.cursor()"
   ]
  },
  {
   "cell_type": "code",
   "execution_count": null,
   "id": "01e8818e-ab53-4aad-944c-a1d1501b421c",
   "metadata": {},
   "outputs": [],
   "source": [
    "# Create Table\n",
    "\n",
    "create_table = False\n",
    "if create_table:\n",
    "    cursor.execute(\n",
    "        '''\n",
    "\n",
    "            CREATE TABLE products (\n",
    "                product_id int primary key,\n",
    "                product_name nvarchar(50),\n",
    "                price int\n",
    "            )\n",
    "        '''\n",
    "    )"
   ]
  },
  {
   "cell_type": "code",
   "execution_count": null,
   "id": "bed30362-60a1-4888-9323-587ca4e53149",
   "metadata": {},
   "outputs": [],
   "source": [
    "# Add all rows from df\n",
    "\n",
    "# for row in df.itertuples():\n",
    "#     cursor.execute(\n",
    "#         '''\n",
    "#             INSERT INTO products (product_id, product_name, price)\n",
    "#             VALUES (?,?,?)\n",
    "#         ''',\n",
    "#         row.product_id, \n",
    "#         row.product_name,\n",
    "#         row.price\n",
    "#                 )\n",
    "conn.commit()"
   ]
  }
 ],
 "metadata": {
  "kernelspec": {
   "display_name": "webscraper-3.9.5",
   "language": "python",
   "name": "myenv"
  },
  "language_info": {
   "codemirror_mode": {
    "name": "ipython",
    "version": 3
   },
   "file_extension": ".py",
   "mimetype": "text/x-python",
   "name": "python",
   "nbconvert_exporter": "python",
   "pygments_lexer": "ipython3",
   "version": "3.9.5"
  }
 },
 "nbformat": 4,
 "nbformat_minor": 5
}
