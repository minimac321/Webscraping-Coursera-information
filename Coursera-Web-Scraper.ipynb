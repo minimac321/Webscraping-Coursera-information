{
 "cells": [
  {
   "cell_type": "markdown",
   "id": "39559bdb-113c-450a-aa9e-6be7d4cab7e4",
   "metadata": {},
   "source": [
    "# Webscraper\n",
    "\n",
    "- What is a webscraper?\n",
    "- Why is it useful?\n",
    "- Is it legal?"
   ]
  },
  {
   "cell_type": "markdown",
   "id": "a2f9c422-ef5b-4bd3-b5c4-472b23e2ec4d",
   "metadata": {},
   "source": [
    "## Project Assumptions\n",
    "\n",
    "The projects asked the candidate to fetch all Coursera \"course\" information however the types of learning tracks are split into 3 categories:\n",
    "- Course\n",
    "- Specialization\n",
    "- Professional Certificate\n",
    "\n",
    "This adds an additional layer of complexity since we need to fetch the course names and type and deal with then appropriately.\n",
    "\n",
    "I will assume that we are fetching courses from the main page (https://www.coursera.org/browse/data-science) and not any of the pages which contains only a single category of courses.\n",
    "\n",
    "This is important as each of those 3 categories have different UI components. So we need to ensure that the data is fetched from unique locations depending on the category. An easy way to identify which of these the course is, is by the url. The following key word follows the category within the URL after the \"coursera.org/\" (see example url):\n",
    "- Course ('learn')\n",
    "    - https://www.coursera.org/learn/foundations-data\n",
    "- Specialization ('specializations')\n",
    "    - https://www.coursera.org/specializations/deep-learning\n",
    "- Professional Certificate ('professional-certificates')\n",
    "    - https://www.coursera.org/professional-certificates/ibm-data-science"
   ]
  },
  {
   "cell_type": "code",
   "execution_count": 13,
   "id": "84873304-4578-49f1-bf86-fe1f648b21f0",
   "metadata": {},
   "outputs": [
    {
     "name": "stdout",
     "output_type": "stream",
     "text": [
      "The autoreload extension is already loaded. To reload it, use:\n",
      "  %reload_ext autoreload\n"
     ]
    }
   ],
   "source": [
    "%load_ext autoreload\n",
    "%autoreload 2"
   ]
  },
  {
   "cell_type": "code",
   "execution_count": 157,
   "id": "97a1b92f-550b-4adf-9712-217a3d76c558",
   "metadata": {},
   "outputs": [
    {
     "name": "stderr",
     "output_type": "stream",
     "text": [
      "/tmp/ipykernel_58031/1885008668.py:9: DeprecationWarning: Importing display from IPython.core.display is deprecated since IPython 7.14, please import from IPython display\n",
      "  from IPython.core.display import display, HTML\n"
     ]
    }
   ],
   "source": [
    "# Imports\n",
    "\n",
    "from bs4 import BeautifulSoup\n",
    "import requests\n",
    "import os\n",
    "import pandas as pd\n",
    "\n",
    "from IPython.display import Image, Markdown\n",
    "from IPython.core.display import display, HTML\n",
    "\n",
    "import urllib.parse\n",
    "from selenium import webdriver"
   ]
  },
  {
   "cell_type": "markdown",
   "id": "a89390a1-7030-4887-b111-bb1dbdc910de",
   "metadata": {},
   "source": [
    "## Example of how to fetch and display HTML using BeautifulSoup"
   ]
  },
  {
   "cell_type": "code",
   "execution_count": 15,
   "id": "b7ac1b93-86ba-4294-b15c-c37933f9a8ca",
   "metadata": {
    "tags": []
   },
   "outputs": [],
   "source": [
    "url = \"https://web.ics.purdue.edu/~gchopra/class/public/pages/webdesign/05_simple.html\"\n",
    "page = requests.get(url)\n",
    "soup = BeautifulSoup(page.content, 'html.parser')\n",
    "\n",
    "\n",
    "display = False\n",
    "\n",
    "if display:\n",
    "    HTML(str(soup))"
   ]
  },
  {
   "cell_type": "markdown",
   "id": "5cce2b45-ca21-47fd-bb61-5a18ed7258a8",
   "metadata": {},
   "source": [
    "## Subproblem - Extract info from selected page"
   ]
  },
  {
   "cell_type": "markdown",
   "id": "94217824-3d10-42c4-a6cc-5db25ac6ea83",
   "metadata": {},
   "source": [
    "- Course name\n",
    "- Course provider\n",
    "- Course description\n",
    "- num of Students enrolled\n"
   ]
  },
  {
   "cell_type": "code",
   "execution_count": 109,
   "id": "1bd5c161-f940-44f5-ab74-994a4c6659bc",
   "metadata": {},
   "outputs": [
    {
     "name": "stdout",
     "output_type": "stream",
     "text": [
      "specialized_url False\n",
      "{'rating': 1121, 'overall_rating': 4.7, 'num_students_enrolled': 70978, 'course_description': 'Process mining is the missing link between model-based process analysis and data-oriented analysis techniques. Through concrete data sets and easy to use software the course provides data science knowledge that can be applied directly to analyze and improve processes in a variety of domains.', 'course_provider': 'Eindhoven University of Technology'}\n",
      "specialized_url False\n",
      "{'rating': 631, 'overall_rating': 4.7, 'num_students_enrolled': 31599, 'course_description': 'This course will provide learners with an introduction to research data management and sharing. After completing this course, learners will understand the diversity of data and their management needs across the research data lifecycle, be able to identify the components of good data management plans, and be familiar with best practices for working with data including the organization, documentation, and storage and security of data. Learners will also understand the impetus and importance of archiving and sharing data as well as how to assess the trustworthiness of repositories. ', 'course_provider': 'The University of North Carolina at Chapel Hill'}\n",
      "specialized_url True\n",
      "{'rating': 389, 'overall_rating': 4.6, 'num_students_enrolled': 13213, 'course_description': 'Development environments might not have the exact requirements as production environments. Moving data science and machine learning projects from idea to production requires state-of-the-art skills. You need to architect and implement your projects for scale and operational efficiency. Data science is an interdisciplinary field that combines domain knowledge with mathematics, statistics, data visualization, and programming skills.\\n\\nThe Practical Data Science Specialization brings together these disciplines using purpose-built ML tools in the AWS cloud. It helps you develop the practical skills to effectively deploy your data science projects and overcome challenges at each step of the ML workflow using Amazon SageMaker.\\n\\nThis Specialization is designed for data-focused developers, scientists, and analysts familiar with the Python and SQL programming languages who want to learn how to build, train, and deploy scalable, end-to-end ML pipelines - both automated and human-in-the-loop - in the AWS cloud.\\n\\nEach of the 10 weeks features a comprehensive lab developed specifically for this Specialization that provides hands-on experience with state-of-the-art algorithms for natural language processing (NLP) and natural language understanding (NLU), including BERT and FastText using Amazon SageMaker.', 'course_provider': 'DeepLearning.AI'}\n"
     ]
    }
   ],
   "source": [
    "def get_rating_info(html_soup):   \n",
    "    overall_ratings_str = html_soup.find_all(\"span\", {\"data-test\": \"number-star-rating\"})[0].text\n",
    "    overall_rating = float(overall_ratings_str.replace(\"stars\", \"\"))\n",
    "\n",
    "    ratings_str = html_soup.find_all(\"span\", {\"data-test\": \"ratings-count-without-asterisks\"})[0].text\n",
    "    rating = int(ratings_str.split(\" \")[0].replace(\",\", \"\"))\n",
    "\n",
    "    rating_info = {\n",
    "        \"rating\": rating, \n",
    "        \"overall_rating\": overall_rating,\n",
    "    }\n",
    "\n",
    "    return rating_info\n",
    "\n",
    "\n",
    "def get_enrolled_info(html_soup):\n",
    "    num_students_enrolled_str = html_soup.find_all(\"div\", {\"class\": \"_1fpiay2\"})[0].find(\"strong\").find(\"span\").text\n",
    "    num_students_enrolled = int(num_students_enrolled_str.replace(\",\", \"\"))\n",
    "    \n",
    "    enrolled_info = {\n",
    "        \"num_students_enrolled\": num_students_enrolled, \n",
    "    }\n",
    "    \n",
    "    z = {**x, **y}\n",
    "\n",
    "    return enrolled_info\n",
    "    \n",
    "    \n",
    "def  get_descirption_info(html_soup, specialized_url=False):\n",
    "    \n",
    "    if specialized_url:\n",
    "        course_description = specialized_html_soup.find_all(\"div\", {\"class\": \"description\"})[0].text\n",
    "        \n",
    "    else:\n",
    "        course_description = html_soup.find_all(\"div\", {\"class\": \"m-t-1 description\"})[0].find(\"div\", {\"class\": \"content-inner\"}).find(\"p\").text\n",
    "\n",
    "    description_info = {\n",
    "        \"course_description\": course_description, \n",
    "\n",
    "    }\n",
    "    return description_info\n",
    "    \n",
    "    \n",
    "def get_provider_info(html_soup):\n",
    "    course_provider = html_soup.find_all(\"h3\", {\"class\": \"headline-4-text bold rc-Partner__title\"})[0].text\n",
    "    \n",
    "    provider_info = {\n",
    "        \"course_provider\": course_provider, \n",
    "\n",
    "    }\n",
    "    return provider_info\n",
    "\n",
    "    \n",
    "    \n",
    "def fetch_course_info_from_course_url(course_url):\n",
    "    if \"specializations\" ==  course_url.split(\"/\")[3]:\n",
    "        specialized_url = True\n",
    "    else:\n",
    "        specialized_url = False\n",
    "    print(\"specialized_url\", specialized_url)\n",
    "    \n",
    "    response = requests.get(url)\n",
    "    html_soup = BeautifulSoup(response.content, 'html.parser')\n",
    "    \n",
    "    # Get Rating Info\n",
    "    rating_info = get_rating_info(html_soup)\n",
    "\n",
    "    # Get Enrolled Info\n",
    "    enrolled_info = get_enrolled_info(html_soup)\n",
    "    \n",
    "    # Get Provider Info\n",
    "    provider_info = get_provider_info(html_soup)\n",
    "    \n",
    "    # Get Descritpion Info\n",
    "    description_info = get_descirption_info(html_soup, specialized_url)\n",
    "    \n",
    "    # Merge all information into a single dictionary\n",
    "    merged_dict = {**rating_info, **enrolled_info, **description_info, **provider_info}\n",
    "    \n",
    "    return merged_dict\n",
    "    \n",
    "\n",
    "url = \"https://www.coursera.org/learn/process-mining\"\n",
    "merged_dict = fetch_course_info_from_course_url(url)\n",
    "print(merged_dict)\n",
    "\n",
    "url = \"https://www.coursera.org/learn/data-management\"\n",
    "merged_dict = fetch_course_info_from_course_url(url)\n",
    "print(merged_dict)\n",
    "\n",
    "url = \"https://www.coursera.org/specializations/practical-data-science\"\n",
    "merged_dict = fetch_course_info_from_course_url(url)\n",
    "print(merged_dict)"
   ]
  },
  {
   "cell_type": "code",
   "execution_count": null,
   "id": "6787f78a-02d0-410b-8a2d-2bf462e2f0d0",
   "metadata": {},
   "outputs": [],
   "source": []
  },
  {
   "cell_type": "code",
   "execution_count": 112,
   "id": "b26c42e6-a1a6-4896-9149-042c0cf12141",
   "metadata": {},
   "outputs": [
    {
     "data": {
      "text/plain": [
       "'https://www.coursera.org/browse/data-science'"
      ]
     },
     "execution_count": 112,
     "metadata": {},
     "output_type": "execute_result"
    }
   ],
   "source": [
    "selected_category_name_str = \"Data Science\"\n",
    "selected_category_name = selected_category_name_str.lower().replace(\" \", \"-\")\n",
    "\n",
    "possible_categories = [\"physical-science-and-engineering\", \"data-science\", \"business\"]\n",
    "\n",
    "assert selected_category_name in possible_categories\n",
    "\n",
    "course_url = f\"https://www.coursera.org/browse/{selected_category_name}\"\n",
    "course_url"
   ]
  },
  {
   "cell_type": "code",
   "execution_count": 113,
   "id": "0dd8f665-6a3d-47ac-8830-d71a16d6f7f6",
   "metadata": {},
   "outputs": [],
   "source": [
    "response = requests.get(course_url)\n",
    "full_course_browser_soup = BeautifulSoup(response.content, 'html.parser')"
   ]
  },
  {
   "cell_type": "code",
   "execution_count": 117,
   "id": "25d5755d-1a56-44a7-94b4-31b06ff856a7",
   "metadata": {},
   "outputs": [],
   "source": [
    "full_course_browser_soup"
   ]
  },
  {
   "cell_type": "code",
   "execution_count": null,
   "id": "9ce68297-49af-4d8f-99d8-ea040aff8a2d",
   "metadata": {},
   "outputs": [],
   "source": []
  },
  {
   "cell_type": "code",
   "execution_count": null,
   "id": "ea4dce5c-8ee0-4ac4-8f1f-98297b1e4564",
   "metadata": {},
   "outputs": [],
   "source": []
  },
  {
   "cell_type": "markdown",
   "id": "0d85ab18-f083-4e8d-87a8-8ce12e7161d1",
   "metadata": {
    "tags": []
   },
   "source": [
    "# COPYRIGHT"
   ]
  },
  {
   "cell_type": "code",
   "execution_count": null,
   "id": "811b990a-b469-412f-a658-93d95416774f",
   "metadata": {},
   "outputs": [],
   "source": [
    "course_title = []\n",
    "course_organization = []\n",
    "course_URL =[]\n",
    "course_Certificate_type = []\n",
    "course_rating = []\n",
    "course_difficulty = []\n",
    "course_students_enrolled = []\n",
    "course_image_URL = []\n",
    "course_image_name=[]"
   ]
  },
  {
   "cell_type": "code",
   "execution_count": null,
   "id": "634f4fd1-9f7d-45aa-b015-c2bd8be11674",
   "metadata": {},
   "outputs": [],
   "source": []
  },
  {
   "cell_type": "code",
   "execution_count": 130,
   "id": "ce40474a-d402-4a6a-bc16-5a7f87d2a591",
   "metadata": {},
   "outputs": [],
   "source": [
    "url = \"https://www.coursera.org/search?query=free&page=2&index=prod_all_launched_products_term_optimization&topic=Data%20Science\"\n",
    "page = requests.get(url)\n",
    "soup = BeautifulSoup(page.content, 'html.parser')"
   ]
  },
  {
   "cell_type": "code",
   "execution_count": null,
   "id": "43d80d28-56a6-4cd7-8fd2-f6ee6eae8aec",
   "metadata": {},
   "outputs": [],
   "source": [
    "# soup"
   ]
  },
  {
   "cell_type": "code",
   "execution_count": 131,
   "id": "f0c885b4-7d91-4b01-9398-f3f0448a14af",
   "metadata": {},
   "outputs": [
    {
     "data": {
      "text/plain": [
       "[<main class=\"css-i045df\"><div class=\"cds-1 css-1p9qvnf cds-2 cds-7\"><div class=\"cds-9 css-1kspkkz cds-10\"><div class=\"cds-9 css-0 cds-11 cds-grid-item cds-56\"><div class=\"css-qfpx85\"></div></div></div></div><div class=\"css-wgtptl\"><div class=\"cds-1 css-1p9qvnf cds-2 cds-7\"><div class=\"cds-9 css-1kspkkz cds-10\"><div class=\"cds-9 css-0 cds-11 cds-grid-item cds-56\"><div class=\"cds-9 css-1winmd cds-10\"><div class=\"cds-9 css-0 cds-11 cds-grid-item cds-56 cds-75\"><div class=\"css-1cr1orv\"><div class=\"css-fmsv16\" data-testid=\"placeholder\"></div><div class=\"css-fmsv16\" data-testid=\"placeholder\"></div><div class=\"css-fmsv16\" data-testid=\"placeholder\"></div><div class=\"css-fmsv16\" data-testid=\"placeholder\"></div><div class=\"css-fmsv16\" data-testid=\"placeholder\"></div><div class=\"css-fmsv16\" data-testid=\"placeholder\"></div><div class=\"css-fmsv16\" data-testid=\"placeholder\"></div></div></div><div class=\"cds-9 css-0 cds-11 cds-grid-item cds-56 cds-81\"><div class=\"rc-SearchResultsHeader\"><h1 class=\"cds-119 css-nf0h1u cds-121\"></h1></div><div class=\"cds-9 css-dlm1y2 cds-10\"><div class=\"cds-9 css-0 cds-11 cds-grid-item cds-56 cds-64 cds-76\"><div class=\"css-83n3hb\"><div class=\"_1sxk1y8o\"><div class=\"_1mf1yoa7\"><span class=\"_1gxhdy09\"></span></div><span class=\"_bsitzg\" style=\"width:72px;height:72px;padding:8px;top:48px;left:24px\"></span><div class=\"_1asckxm5\"><div class=\"_1w5n1ofv\" style=\"margin-bottom:6px\"></div><div class=\"_1izvev7v\"></div></div><div class=\"_hzerk35\"><div class=\"_ionehgs\"></div></div></div></div></div><div class=\"cds-9 css-0 cds-11 cds-grid-item cds-56 cds-64 cds-76\"><div class=\"css-83n3hb\"><div class=\"_1sxk1y8o\"><div class=\"_1mf1yoa7\"><span class=\"_1gxhdy09\"></span></div><span class=\"_bsitzg\" style=\"width:72px;height:72px;padding:8px;top:48px;left:24px\"></span><div class=\"_1asckxm5\"><div class=\"_1w5n1ofv\" style=\"margin-bottom:6px\"></div><div class=\"_1izvev7v\"></div></div><div class=\"_hzerk35\"><div class=\"_ionehgs\"></div></div></div></div></div><div class=\"cds-9 css-0 cds-11 cds-grid-item cds-56 cds-64 cds-76\"><div class=\"css-83n3hb\"><div class=\"_1sxk1y8o\"><div class=\"_1mf1yoa7\"><span class=\"_1gxhdy09\"></span></div><span class=\"_bsitzg\" style=\"width:72px;height:72px;padding:8px;top:48px;left:24px\"></span><div class=\"_1asckxm5\"><div class=\"_1w5n1ofv\" style=\"margin-bottom:6px\"></div><div class=\"_1izvev7v\"></div></div><div class=\"_hzerk35\"><div class=\"_ionehgs\"></div></div></div></div></div><div class=\"cds-9 css-0 cds-11 cds-grid-item cds-56 cds-64 cds-76\"><div class=\"css-83n3hb\"><div class=\"_1sxk1y8o\"><div class=\"_1mf1yoa7\"><span class=\"_1gxhdy09\"></span></div><span class=\"_bsitzg\" style=\"width:72px;height:72px;padding:8px;top:48px;left:24px\"></span><div class=\"_1asckxm5\"><div class=\"_1w5n1ofv\" style=\"margin-bottom:6px\"></div><div class=\"_1izvev7v\"></div></div><div class=\"_hzerk35\"><div class=\"_ionehgs\"></div></div></div></div></div><div class=\"cds-9 css-0 cds-11 cds-grid-item cds-56 cds-64 cds-76\"><div class=\"css-83n3hb\"><div class=\"_1sxk1y8o\"><div class=\"_1mf1yoa7\"><span class=\"_1gxhdy09\"></span></div><span class=\"_bsitzg\" style=\"width:72px;height:72px;padding:8px;top:48px;left:24px\"></span><div class=\"_1asckxm5\"><div class=\"_1w5n1ofv\" style=\"margin-bottom:6px\"></div><div class=\"_1izvev7v\"></div></div><div class=\"_hzerk35\"><div class=\"_ionehgs\"></div></div></div></div></div><div class=\"cds-9 css-0 cds-11 cds-grid-item cds-56 cds-64 cds-76\"><div class=\"css-83n3hb\"><div class=\"_1sxk1y8o\"><div class=\"_1mf1yoa7\"><span class=\"_1gxhdy09\"></span></div><span class=\"_bsitzg\" style=\"width:72px;height:72px;padding:8px;top:48px;left:24px\"></span><div class=\"_1asckxm5\"><div class=\"_1w5n1ofv\" style=\"margin-bottom:6px\"></div><div class=\"_1izvev7v\"></div></div><div class=\"_hzerk35\"><div class=\"_ionehgs\"></div></div></div></div></div><div class=\"cds-9 css-0 cds-11 cds-grid-item cds-56 cds-64 cds-76\"><div class=\"css-83n3hb\"><div class=\"_1sxk1y8o\"><div class=\"_1mf1yoa7\"><span class=\"_1gxhdy09\"></span></div><span class=\"_bsitzg\" style=\"width:72px;height:72px;padding:8px;top:48px;left:24px\"></span><div class=\"_1asckxm5\"><div class=\"_1w5n1ofv\" style=\"margin-bottom:6px\"></div><div class=\"_1izvev7v\"></div></div><div class=\"_hzerk35\"><div class=\"_ionehgs\"></div></div></div></div></div><div class=\"cds-9 css-0 cds-11 cds-grid-item cds-56 cds-64 cds-76\"><div class=\"css-83n3hb\"><div class=\"_1sxk1y8o\"><div class=\"_1mf1yoa7\"><span class=\"_1gxhdy09\"></span></div><span class=\"_bsitzg\" style=\"width:72px;height:72px;padding:8px;top:48px;left:24px\"></span><div class=\"_1asckxm5\"><div class=\"_1w5n1ofv\" style=\"margin-bottom:6px\"></div><div class=\"_1izvev7v\"></div></div><div class=\"_hzerk35\"><div class=\"_ionehgs\"></div></div></div></div></div><div class=\"cds-9 css-0 cds-11 cds-grid-item cds-56 cds-64 cds-76\"><div class=\"css-83n3hb\"><div class=\"_1sxk1y8o\"><div class=\"_1mf1yoa7\"><span class=\"_1gxhdy09\"></span></div><span class=\"_bsitzg\" style=\"width:72px;height:72px;padding:8px;top:48px;left:24px\"></span><div class=\"_1asckxm5\"><div class=\"_1w5n1ofv\" style=\"margin-bottom:6px\"></div><div class=\"_1izvev7v\"></div></div><div class=\"_hzerk35\"><div class=\"_ionehgs\"></div></div></div></div></div><div class=\"cds-9 css-0 cds-11 cds-grid-item cds-56 cds-64 cds-76\"><div class=\"css-83n3hb\"><div class=\"_1sxk1y8o\"><div class=\"_1mf1yoa7\"><span class=\"_1gxhdy09\"></span></div><span class=\"_bsitzg\" style=\"width:72px;height:72px;padding:8px;top:48px;left:24px\"></span><div class=\"_1asckxm5\"><div class=\"_1w5n1ofv\" style=\"margin-bottom:6px\"></div><div class=\"_1izvev7v\"></div></div><div class=\"_hzerk35\"><div class=\"_ionehgs\"></div></div></div></div></div><div class=\"cds-9 css-0 cds-11 cds-grid-item cds-56 cds-64 cds-76\"><div class=\"css-83n3hb\"><div class=\"_1sxk1y8o\"><div class=\"_1mf1yoa7\"><span class=\"_1gxhdy09\"></span></div><span class=\"_bsitzg\" style=\"width:72px;height:72px;padding:8px;top:48px;left:24px\"></span><div class=\"_1asckxm5\"><div class=\"_1w5n1ofv\" style=\"margin-bottom:6px\"></div><div class=\"_1izvev7v\"></div></div><div class=\"_hzerk35\"><div class=\"_ionehgs\"></div></div></div></div></div><div class=\"cds-9 css-0 cds-11 cds-grid-item cds-56 cds-64 cds-76\"><div class=\"css-83n3hb\"><div class=\"_1sxk1y8o\"><div class=\"_1mf1yoa7\"><span class=\"_1gxhdy09\"></span></div><span class=\"_bsitzg\" style=\"width:72px;height:72px;padding:8px;top:48px;left:24px\"></span><div class=\"_1asckxm5\"><div class=\"_1w5n1ofv\" style=\"margin-bottom:6px\"></div><div class=\"_1izvev7v\"></div></div><div class=\"_hzerk35\"><div class=\"_ionehgs\"></div></div></div></div></div></div></div></div></div></div></div></div><div></div></main>]"
      ]
     },
     "execution_count": 131,
     "metadata": {},
     "output_type": "execute_result"
    }
   ],
   "source": [
    "ss = soup.find_all(\"main\", {\"class\": \"css-i045df\"})\n",
    "ss"
   ]
  },
  {
   "cell_type": "code",
   "execution_count": 136,
   "id": "5a79d3d2-33b3-4c3a-ac4f-8903f254e20e",
   "metadata": {
    "tags": []
   },
   "outputs": [
    {
     "data": {
      "text/plain": [
       "[]"
      ]
     },
     "execution_count": 136,
     "metadata": {},
     "output_type": "execute_result"
    }
   ],
   "source": [
    "soup.find_all(\"script\", {\"type\": \"application/ld+json\"})\n"
   ]
  },
  {
   "cell_type": "code",
   "execution_count": null,
   "id": "40c5276a-b67b-43a4-ab16-63defa0a345f",
   "metadata": {},
   "outputs": [],
   "source": []
  },
  {
   "cell_type": "markdown",
   "id": "f0d216d2-1787-4122-ae73-6602ffeaefc1",
   "metadata": {},
   "source": [
    "## Wait time issue - Try Selinum"
   ]
  },
  {
   "cell_type": "code",
   "execution_count": 137,
   "id": "0a0fa214-41a2-408a-8668-9a594ab08e37",
   "metadata": {},
   "outputs": [],
   "source": []
  },
  {
   "cell_type": "code",
   "execution_count": 156,
   "id": "f908f232-71a5-4243-af1d-40803b7f8470",
   "metadata": {},
   "outputs": [
    {
     "data": {
      "text/plain": [
       "['Foundations: Data, Data, Everywhere',\n",
       " 'IBM Applied AI',\n",
       " 'Supervised Machine Learning: Regression and Classification',\n",
       " 'DeepLearning.AI TensorFlow Developer',\n",
       " 'Machine Learning Engineering for Production (MLOps)',\n",
       " 'Ask Questions to Make Data-Driven Decisions',\n",
       " 'Learn SQL Basics for Data Science',\n",
       " 'Natural Language Processing',\n",
       " 'IBM AI Engineering',\n",
       " 'AI in Healthcare',\n",
       " 'Business Analytics',\n",
       " 'Preparing for Google Cloud Certification: Cloud Data Engineer']"
      ]
     },
     "execution_count": 156,
     "metadata": {},
     "output_type": "execute_result"
    }
   ],
   "source": []
  },
  {
   "cell_type": "code",
   "execution_count": 294,
   "id": "381f806f-15bf-4365-b476-78eb6ea8aca0",
   "metadata": {},
   "outputs": [
    {
     "data": {
      "text/plain": [
       "<div aria-hidden=\"true\" class=\"css-ilhc4l\"><div class=\"css-1rj417c\"><div class=\"css-17cbn3s\"><div class=\"cds-71 css-1fhq39r cds-72 cds-78\"><div class=\"cds-71 css-1vpgbgp cds-73 cds-grid-item\"><div class=\"_1x9ons3\"><div class=\"lazyload-wrapper\"><img alt=\"IBM Skills Network\" height=\"25\" src=\"https://d3njjcbhbojbot.cloudfront.net/api/utilities/v1/imageproxy/http://coursera-university-assets.s3.amazonaws.com/bb/f5ced2bdd4437aa79f00eb1bf7fbf0/IBM-Logo-Blk---Square.png?auto=format%2Ccompress&amp;dpr=1&amp;w=25&amp;h=25&amp;q=40\" srcset=\"https://d3njjcbhbojbot.cloudfront.net/api/utilities/v1/imageproxy/http://coursera-university-assets.s3.amazonaws.com/bb/f5ced2bdd4437aa79f00eb1bf7fbf0/IBM-Logo-Blk---Square.png?auto=format%2Ccompress&amp;dpr=2&amp;w=25&amp;h=25&amp;q=40 2x, https://d3njjcbhbojbot.cloudfront.net/api/utilities/v1/imageproxy/http://coursera-university-assets.s3.amazonaws.com/bb/f5ced2bdd4437aa79f00eb1bf7fbf0/IBM-Logo-Blk---Square.png?auto=format%2Ccompress&amp;dpr=3&amp;w=25&amp;h=25&amp;q=40 3x\" style=\"max-width: 25px; max-height: 25px;\" width=\"25\"/></div></div></div><div class=\"cds-71 css-1xdhyk6 cds-73 cds-grid-item\"><span class=\"cds-33 css-14d8ngk cds-35\">IBM Skills Network</span></div></div></div><h2 class=\"cds-33 css-bku0rr cds-35\">IBM Data Science</h2><p class=\"cds-33 css-5or6ht cds-35\"><span class=\"css-1qajodb\"><b>Skills you'll gain: </b></span>Python Programming, Data Science, Data Analysis, Data Structures, Statistical Programming, Machine Learning, Data Mining, Regression, Machine Learning Algorithms, Data Visualization, General Statistics, Basic Descriptive Statistics, SQL, Applied Machine Learning, Statistical Analysis, Computer Programming Tools, Data Analysis Software, Machine Learning Software, Software Visualization, Databases, Programming Principles, Exploratory Data Analysis, Algebra, Data Management, Database Theory, Data Visualization Software, R Programming, Statistical Machine Learning, Statistical Tests, Deep Learning, Probability &amp; Statistics, Statistical Visualization, Database Application, Extract, Transform, Load, Devops Tools, SPSS, Estimation, Interactive Data Visualization, Algorithms, Computer Programming, Database Administration, Geovisualization, Plot (Graphics), Reinforcement Learning, Theoretical Computer Science, Big Data, Business Analysis, Computational Logic, Correlation And Dependence, Econometrics, Entrepreneurship, Marketing, Mathematical Theory &amp; Analysis, Mathematics, Spreadsheet Software, Storytelling, Supply Chain Systems, Supply Chain and Logistics, Writing</p></div><div><div class=\"css-pn23ng\"><svg aria-hidden=\"true\" class=\"css-us1a98\" fill=\"none\" focusable=\"false\" height=\"16\" id=\"cds-react-aria-97\" viewbox=\"0 0 16 16\" width=\"16\"><path d=\"M13.63 6.32h-4L8.3 2.22a.33.33 0 00-.547-.143.35.35 0 00-.083.123L6.32 6.32h-4a.34.34 0 00-.32.32.36.36 0 00.12.27L5.5 9.49l-1.3 4.08a.33.33 0 00.23.41.358.358 0 00.3-.05L8 11.39l3.28 2.54a.33.33 0 00.46 0 .3.3 0 00.06-.31l-1.31-4.13 3.37-2.58a.32.32 0 00.08-.45.34.34 0 00-.136-.112c-.055-.024-.063-.034-.123-.028h-.051z\" fill=\"#F2D049\"></path><path clip-rule=\"evenodd\" d=\"M7.723 1.525a.83.83 0 011.054.546L9.993 5.82h3.668a.635.635 0 01.317.058l.02.01.012.005a.84.84 0 01.336.275l.001.002a.82.82 0 01-.191 1.143l-3.083 2.36 1.2 3.786a.8.8 0 01-.166.81l-.009.01-.01.01a.83.83 0 01-1.131.023L8 12.022l-2.975 2.312-.012.008a.86.86 0 01-1.007-.026.832.832 0 01-.286-.885l.003-.013 1.194-3.744L1.8 7.296l-.014-.013a.86.86 0 01-.287-.645V6.61a.84.84 0 01.791-.79l.015-.001h3.652L7.2 2.029l.006-.016a.85.85 0 01.51-.485l.007-.003zM4.298 14.462h-.002l.134-.482-.132.482zM7.98 2.857L6.682 6.82H2.826l3.257 2.486-1.244 3.907 3.16-2.456 3.14 2.431-1.232-3.882 3.248-2.486H9.267L7.98 2.857zm5.75 3.96z\" fill=\"#7C6919\" fill-rule=\"evenodd\"></path></svg><p class=\"cds-33 css-zl0kzj cds-35\">4.6</p><p class=\"cds-33 css-14d8ngk cds-35\">(103.2k reviews)</p></div><p class=\"cds-33 css-14d8ngk cds-35\">Beginner · Professional Certificate · 3-6 Months</p></div></div>"
      ]
     },
     "execution_count": 294,
     "metadata": {},
     "output_type": "execute_result"
    }
   ],
   "source": [
    "card"
   ]
  },
  {
   "cell_type": "code",
   "execution_count": 298,
   "id": "a1fa1090-6c32-45a5-9103-a9dcf8f1c8d7",
   "metadata": {},
   "outputs": [],
   "source": [
    "card.find(\"h2\", {\"class\": \"cds-33 cds-35\"})"
   ]
  },
  {
   "cell_type": "code",
   "execution_count": 308,
   "id": "e25b2c1c-d02a-49b8-8a53-445a3c1a1b2b",
   "metadata": {},
   "outputs": [],
   "source": [
    "\n",
    "# def auto_scrape(j, html_tag, class_tag, course_item):\n",
    "#     bsoup = soup.find_all(html_tag, class_ = class_tag)[j].get_text()\n",
    "#     if bsoup is None:\n",
    "#         course_item.append(\"None\")\n",
    "#     else:\n",
    "#         course_item.append(bsoup)\n",
    "\n",
    "# def auto_scrape_imgURL(j, html_tag, class_tag, course_url_item, course_url_name):\n",
    "#     x_div = soup.find_all('img', class_ =\"product-photo\")[j]\n",
    "#     if x_div is None:\n",
    "#         course_url_item.append(\"None\")\n",
    "#         course_url_name.append(\"None\")\n",
    "#     else:\n",
    "#         course_url_item.append(x_div.get('src'))\n",
    "#         course_url_name.append(x_div.get('alt'))\n",
    "\n",
    "# def auto_scrape_URL(j, html_tag, class_tag, course_item):\n",
    "#     cu= soup.find_all(\"a\", class_='rc-DesktopSearchCard anchor-wrapper')[j]\n",
    "#     if cu is None:\n",
    "#         course_item.append(\"None\")\n",
    "#     else:\n",
    "#         course_URL.append(\"https:/www.coursera.org/\"+ cu.get('href'))\n",
    "        \n",
    "        \n",
    "def value_to_float(value):\n",
    "    if type(value) == float or type(value) == int:\n",
    "        return value\n",
    "    \n",
    "    value = value.replace(\",\", \"\").replace(\".\", \"\").upper()\n",
    "    print(\"value\", value)\n",
    "    if 'K' in value:\n",
    "        if len(value) > 1:\n",
    "            return float(value.replace('K', '')) * 1000\n",
    "        return 1000.0\n",
    "    if 'M' in value:\n",
    "        if len(value) > 1:\n",
    "            return float(value.replace('M', '')) * 1000000\n",
    "        return 1000000.0\n",
    "    if 'B' in value:\n",
    "        return float(value.replace('B', '')) * 1000000000\n",
    "    \n",
    "    return 0.0\n",
    "\n",
    "\n",
    "def get_coursera_page_url_by_page_number(page_number, topic):\n",
    "    url_str = f\"https://www.coursera.org/search?page={page_number}&index=prod_all_launched_products_term_optimization\"\n",
    "    topic_url_parsed_str = \"&topic=\" + urllib.parse.quote(topic)\n",
    "    full_url = url_str + topic_url_parsed_str\n",
    "    return full_url\n",
    "\n",
    "\n",
    "def get_course_attributes(card):\n",
    "    course_info = {}\n",
    "\n",
    "    course_name = card.find(\"h2\", {\"class\": \"cds-119 css-bku0rr cds-121\"}).text\n",
    "    # course_name = card.find(\"h2\", {\"class\": \"cds-33 css-bku0rr cds-35\"}).text \n",
    "    # course_name = card.find(\"h2\", {\"class\": \"ccds-33 css-bku0rr cds-35\"}).text \n",
    "    \n",
    "\n",
    "\n",
    "    course_info[\"course_name\"] = course_name \n",
    "    \n",
    "    try:\n",
    "\n",
    "        # Find additional data fields    \n",
    "        # course_info[\"course_rating\"] = float(card.find(\"p\", {\"class\": \"cds-33 css-zl0kzj cds-35\"}).text)\n",
    "        course_info[\"course_rating\"] = float(card.find(\"p\", {\"class\": \"cds-119 css-zl0kzj cds-121\"}).text)\n",
    "        \n",
    "\n",
    "        # course_data = card.find_all(\"p\", {\"class\": \"cds-33 css-14d8ngk cds-35\"})\n",
    "        course_data = card.find_all(\"p\", {\"class\": \"cds-119 css-14d8ngk cds-121\"})\n",
    "        \n",
    "        print(\"course_data\", course_data)\n",
    "        # Set Course Reviews\n",
    "        course_reviews_str = course_data[0].text.replace(\" reviews\", \"\").replace(\"(\", \"\").replace(\")\", \"\")\n",
    "        print(\"course_reviews_str\", course_reviews_str)\n",
    "        course_reviews = value_to_float(course_reviews_str)\n",
    "        course_info[\"course_reviews\"] = course_reviews\n",
    "\n",
    "\n",
    "#         split_course_data = course_data[1].text.split(\" · \")\n",
    "#         course_difficulty_level = split_course_data[0]\n",
    "#         course_type = split_course_data[1]\n",
    "#         course_period = split_course_data[2]\n",
    "\n",
    "#         course_info[\"course_difficulty_level\"] = course_difficulty_level \n",
    "#         course_info[\"course_type\"] = course_type \n",
    "#         course_info[\"course_period\"] = course_period \n",
    "\n",
    "    except Exception as e:\n",
    "        print(f\"Exception: {e}\")\n",
    "        return course_info\n",
    "        \n",
    "    return course_info\n",
    "\n",
    "def get_all_course_card_info(course_card_soup):\n",
    "    course_cards = course_card_soup.find_all(\"div\", {\"class\": \"css-ilhc4l\"})\n",
    "    \n",
    "    course_information_dict = {}\n",
    "    \n",
    "    for card in course_cards:\n",
    "        course_dict = get_course_attributes(card)\n",
    "        print(\"course_dict\", course_dict)\n",
    "        course_name = course_dict.pop(\"course_name\")\n",
    "        course_information_dict[course_name] = course_dict\n",
    "        \n",
    "    print(\"done\")\n",
    "\n",
    "    # course_names = [for c in course_cards]\n",
    "    # all_course_names.extend(course_names)\n",
    "    \n",
    "    return course_information_dict\n",
    "\n",
    "# get_coursera_page_url_by_page_number(page_number=1, topic=\"Math and Logic\")\n",
    "# 'https://www.coursera.org/search?page=1&index=prod_all_launched_products_term_optimization&topic=Math%20and%20Logic'"
   ]
  },
  {
   "cell_type": "code",
   "execution_count": 300,
   "id": "d88a6557-8c91-4305-b283-7d5b34090681",
   "metadata": {},
   "outputs": [
    {
     "name": "stdout",
     "output_type": "stream",
     "text": [
      "<div aria-hidden=\"true\" class=\"css-ilhc4l\"><div class=\"css-1rj417c\"><div class=\"css-17cbn3s\"><div class=\"cds-9 css-1fhq39r cds-10 cds-16\"><div class=\"cds-9 css-1vpgbgp cds-11 cds-grid-item\"><div class=\"_1x9ons3\"><div class=\"lazyload-wrapper\"><img alt=\"IBM Skills Network\" height=\"25\" src=\"https://d3njjcbhbojbot.cloudfront.net/api/utilities/v1/imageproxy/http://coursera-university-assets.s3.amazonaws.com/bb/f5ced2bdd4437aa79f00eb1bf7fbf0/IBM-Logo-Blk---Square.png?auto=format%2Ccompress&amp;dpr=1&amp;w=25&amp;h=25&amp;q=40\" srcset=\"https://d3njjcbhbojbot.cloudfront.net/api/utilities/v1/imageproxy/http://coursera-university-assets.s3.amazonaws.com/bb/f5ced2bdd4437aa79f00eb1bf7fbf0/IBM-Logo-Blk---Square.png?auto=format%2Ccompress&amp;dpr=2&amp;w=25&amp;h=25&amp;q=40 2x, https://d3njjcbhbojbot.cloudfront.net/api/utilities/v1/imageproxy/http://coursera-university-assets.s3.amazonaws.com/bb/f5ced2bdd4437aa79f00eb1bf7fbf0/IBM-Logo-Blk---Square.png?auto=format%2Ccompress&amp;dpr=3&amp;w=25&amp;h=25&amp;q=40 3x\" style=\"max-width: 25px; max-height: 25px;\" width=\"25\"/></div></div></div><div class=\"cds-9 css-1xdhyk6 cds-11 cds-grid-item\"><span class=\"cds-119 css-14d8ngk cds-121\">IBM Skills Network</span></div></div></div><h2 class=\"cds-119 css-bku0rr cds-121\">IBM Data Science</h2><p class=\"cds-119 css-5or6ht cds-121\"><span class=\"css-1qajodb\"><b>Skills you'll gain: </b></span>Python Programming, Data Science, Data Analysis, Data Structures, Statistical Programming, Machine Learning, Data Mining, Regression, Machine Learning Algorithms, Data Visualization, General Statistics, Basic Descriptive Statistics, SQL, Applied Machine Learning, Statistical Analysis, Computer Programming Tools, Data Analysis Software, Machine Learning Software, Software Visualization, Databases, Programming Principles, Exploratory Data Analysis, Algebra, Data Management, Database Theory, Data Visualization Software, R Programming, Statistical Machine Learning, Statistical Tests, Deep Learning, Probability &amp; Statistics, Statistical Visualization, Database Application, Extract, Transform, Load, Devops Tools, SPSS, Estimation, Interactive Data Visualization, Algorithms, Computer Programming, Database Administration, Geovisualization, Plot (Graphics), Reinforcement Learning, Theoretical Computer Science, Big Data, Business Analysis, Computational Logic, Correlation And Dependence, Econometrics, Entrepreneurship, Marketing, Mathematical Theory &amp; Analysis, Mathematics, Spreadsheet Software, Storytelling, Supply Chain Systems, Supply Chain and Logistics, Writing</p></div><div><div class=\"css-pn23ng\"><svg aria-hidden=\"true\" class=\"css-us1a98\" fill=\"none\" focusable=\"false\" height=\"16\" id=\"cds-react-aria-102\" viewbox=\"0 0 16 16\" width=\"16\"><path d=\"M13.63 6.32h-4L8.3 2.22a.33.33 0 00-.547-.143.35.35 0 00-.083.123L6.32 6.32h-4a.34.34 0 00-.32.32.36.36 0 00.12.27L5.5 9.49l-1.3 4.08a.33.33 0 00.23.41.358.358 0 00.3-.05L8 11.39l3.28 2.54a.33.33 0 00.46 0 .3.3 0 00.06-.31l-1.31-4.13 3.37-2.58a.32.32 0 00.08-.45.34.34 0 00-.136-.112c-.055-.024-.063-.034-.123-.028h-.051z\" fill=\"#F2D049\"></path><path clip-rule=\"evenodd\" d=\"M7.723 1.525a.83.83 0 011.054.546L9.993 5.82h3.668a.635.635 0 01.317.058l.02.01.012.005a.84.84 0 01.336.275l.001.002a.82.82 0 01-.191 1.143l-3.083 2.36 1.2 3.786a.8.8 0 01-.166.81l-.009.01-.01.01a.83.83 0 01-1.131.023L8 12.022l-2.975 2.312-.012.008a.86.86 0 01-1.007-.026.832.832 0 01-.286-.885l.003-.013 1.194-3.744L1.8 7.296l-.014-.013a.86.86 0 01-.287-.645V6.61a.84.84 0 01.791-.79l.015-.001h3.652L7.2 2.029l.006-.016a.85.85 0 01.51-.485l.007-.003zM4.298 14.462h-.002l.134-.482-.132.482zM7.98 2.857L6.682 6.82H2.826l3.257 2.486-1.244 3.907 3.16-2.456 3.14 2.431-1.232-3.882 3.248-2.486H9.267L7.98 2.857zm5.75 3.96z\" fill=\"#7C6919\" fill-rule=\"evenodd\"></path></svg><p class=\"cds-119 css-zl0kzj cds-121\">4.6</p><p class=\"cds-119 css-14d8ngk cds-121\">(103.2k reviews)</p></div><p class=\"cds-119 css-14d8ngk cds-121\"></p><div class=\"cds-9 css-0 cds-10\" data-e2e=\"rc-CreditEligibleBadge\"><div class=\"cds-9 css-0 cds-11 cds-grid-item\"><svg aria-hidden=\"true\" class=\"css-14bi18n\" fill=\"none\" focusable=\"false\" height=\"20\" id=\"cds-react-aria-103\" viewbox=\"0 0 20 20\" width=\"20\"><path clip-rule=\"evenodd\" d=\"M.5 2.5h19.05v15H.5v-15zm1 1v13h17.05v-13H1.5z\" fill=\"currentColor\" fill-rule=\"evenodd\"></path><path clip-rule=\"evenodd\" d=\"M11.61 10.59h1v2.593l.89-.454.89.454V10.59h1v4.227l-1.89-.966-1.89.966V10.59z\" fill=\"currentColor\" fill-rule=\"evenodd\"></path><path clip-rule=\"evenodd\" d=\"M13.5 6.51a2 2 0 100 4 2 2 0 000-4zm-3 2a3 3 0 116 0 3 3 0 01-6 0z\" fill=\"currentColor\" fill-rule=\"evenodd\"></path></svg></div><div class=\"cds-9 css-1md3yzc cds-11 cds-grid-item\"><p class=\"cds-119 css-14d8ngk cds-121\" data-e2e=\"creditEligibleText\">Degree Credit Eligible</p></div></div>Beginner · Professional Certificate · 3-6 Months</div></div>\n"
     ]
    },
    {
     "ename": "AttributeError",
     "evalue": "'NoneType' object has no attribute 'text'",
     "output_type": "error",
     "traceback": [
      "\u001b[0;31m---------------------------------------------------------------------------\u001b[0m",
      "\u001b[0;31mAttributeError\u001b[0m                            Traceback (most recent call last)",
      "Cell \u001b[0;32mIn [300], line 10\u001b[0m\n\u001b[1;32m      5\u001b[0m card \u001b[38;5;241m=\u001b[39m course_cards[\u001b[38;5;241m1\u001b[39m]\n\u001b[1;32m      6\u001b[0m \u001b[38;5;66;03m# card\u001b[39;00m\n\u001b[1;32m      7\u001b[0m \u001b[38;5;66;03m# card.find(\"h2\", {\"class\": \"cds-33 css-bku0rr cds-35\"}).text\u001b[39;00m\n\u001b[0;32m---> 10\u001b[0m \u001b[43mget_course_attributes\u001b[49m\u001b[43m(\u001b[49m\u001b[43mcard\u001b[49m\u001b[43m)\u001b[49m\n",
      "Cell \u001b[0;32mIn [299], line 56\u001b[0m, in \u001b[0;36mget_course_attributes\u001b[0;34m(card)\u001b[0m\n\u001b[1;32m     54\u001b[0m \u001b[38;5;66;03m# course_name = card.find(\"h2\", {\"class\": \"cds-119 css-bku0rr cds-121\"}).text\u001b[39;00m\n\u001b[1;32m     55\u001b[0m \u001b[38;5;28mprint\u001b[39m(card)\n\u001b[0;32m---> 56\u001b[0m course_name \u001b[38;5;241m=\u001b[39m \u001b[43mcard\u001b[49m\u001b[38;5;241;43m.\u001b[39;49m\u001b[43mfind\u001b[49m\u001b[43m(\u001b[49m\u001b[38;5;124;43m\"\u001b[39;49m\u001b[38;5;124;43mh2\u001b[39;49m\u001b[38;5;124;43m\"\u001b[39;49m\u001b[43m,\u001b[49m\u001b[43m \u001b[49m\u001b[43m{\u001b[49m\u001b[38;5;124;43m\"\u001b[39;49m\u001b[38;5;124;43mclass\u001b[39;49m\u001b[38;5;124;43m\"\u001b[39;49m\u001b[43m:\u001b[49m\u001b[43m \u001b[49m\u001b[38;5;124;43m\"\u001b[39;49m\u001b[38;5;124;43mcds-33 css-bku0rr cds-35\u001b[39;49m\u001b[38;5;124;43m\"\u001b[39;49m\u001b[43m}\u001b[49m\u001b[43m)\u001b[49m\u001b[38;5;241;43m.\u001b[39;49m\u001b[43mtext\u001b[49m \n\u001b[1;32m     57\u001b[0m \u001b[38;5;66;03m# course_name = card.find(\"h2\", {\"class\": \"ccds-33 css-bku0rr cds-35\"}).text \u001b[39;00m\n\u001b[1;32m     61\u001b[0m course_info[\u001b[38;5;124m\"\u001b[39m\u001b[38;5;124mcourse_name\u001b[39m\u001b[38;5;124m\"\u001b[39m] \u001b[38;5;241m=\u001b[39m course_name \n",
      "\u001b[0;31mAttributeError\u001b[0m: 'NoneType' object has no attribute 'text'"
     ]
    }
   ],
   "source": [
    "course_cards = course_card_soup.find_all(\"div\", {\"class\": \"css-ilhc4l\"})\n",
    "\n",
    "\n",
    "# \n",
    "card = course_cards[1]\n",
    "# card\n",
    "# card.find(\"h2\", {\"class\": \"cds-33 css-bku0rr cds-35\"}).text\n",
    "\n",
    "\n",
    "get_course_attributes(card)"
   ]
  },
  {
   "cell_type": "code",
   "execution_count": 309,
   "id": "15bdf182-0dab-4777-ad26-a1e44aa57d5b",
   "metadata": {},
   "outputs": [
    {
     "name": "stdout",
     "output_type": "stream",
     "text": [
      "page_number: 1\n",
      "url https://www.coursera.org/search?page=1&index=prod_all_launched_products_term_optimization&topic=Data%20Science\n"
     ]
    },
    {
     "ename": "AttributeError",
     "evalue": "'NoneType' object has no attribute 'text'",
     "output_type": "error",
     "traceback": [
      "\u001b[0;31m---------------------------------------------------------------------------\u001b[0m",
      "\u001b[0;31mAttributeError\u001b[0m                            Traceback (most recent call last)",
      "Cell \u001b[0;32mIn [309], line 16\u001b[0m\n\u001b[1;32m     13\u001b[0m html \u001b[38;5;241m=\u001b[39m browser\u001b[38;5;241m.\u001b[39mpage_source\n\u001b[1;32m     14\u001b[0m course_card_soup \u001b[38;5;241m=\u001b[39m BeautifulSoup(html, \u001b[38;5;124m'\u001b[39m\u001b[38;5;124mlxml\u001b[39m\u001b[38;5;124m'\u001b[39m)\n\u001b[0;32m---> 16\u001b[0m course_information_dict \u001b[38;5;241m=\u001b[39m \u001b[43mget_all_course_card_info\u001b[49m\u001b[43m(\u001b[49m\u001b[43mcourse_card_soup\u001b[49m\u001b[43m)\u001b[49m\n\u001b[1;32m     17\u001b[0m all_course_information\u001b[38;5;241m.\u001b[39mupdate(course_information_dict)\n",
      "Cell \u001b[0;32mIn [308], line 102\u001b[0m, in \u001b[0;36mget_all_course_card_info\u001b[0;34m(course_card_soup)\u001b[0m\n\u001b[1;32m     99\u001b[0m course_information_dict \u001b[38;5;241m=\u001b[39m {}\n\u001b[1;32m    101\u001b[0m \u001b[38;5;28;01mfor\u001b[39;00m card \u001b[38;5;129;01min\u001b[39;00m course_cards:\n\u001b[0;32m--> 102\u001b[0m     course_dict \u001b[38;5;241m=\u001b[39m \u001b[43mget_course_attributes\u001b[49m\u001b[43m(\u001b[49m\u001b[43mcard\u001b[49m\u001b[43m)\u001b[49m\n\u001b[1;32m    103\u001b[0m     \u001b[38;5;28mprint\u001b[39m(\u001b[38;5;124m\"\u001b[39m\u001b[38;5;124mcourse_dict\u001b[39m\u001b[38;5;124m\"\u001b[39m, course_dict)\n\u001b[1;32m    104\u001b[0m     course_name \u001b[38;5;241m=\u001b[39m course_dict\u001b[38;5;241m.\u001b[39mpop(\u001b[38;5;124m\"\u001b[39m\u001b[38;5;124mcourse_name\u001b[39m\u001b[38;5;124m\"\u001b[39m)\n",
      "Cell \u001b[0;32mIn [308], line 55\u001b[0m, in \u001b[0;36mget_course_attributes\u001b[0;34m(card)\u001b[0m\n\u001b[1;32m     52\u001b[0m \u001b[38;5;28;01mdef\u001b[39;00m \u001b[38;5;21mget_course_attributes\u001b[39m(card):\n\u001b[1;32m     53\u001b[0m     course_info \u001b[38;5;241m=\u001b[39m {}\n\u001b[0;32m---> 55\u001b[0m     course_name \u001b[38;5;241m=\u001b[39m \u001b[43mcard\u001b[49m\u001b[38;5;241;43m.\u001b[39;49m\u001b[43mfind\u001b[49m\u001b[43m(\u001b[49m\u001b[38;5;124;43m\"\u001b[39;49m\u001b[38;5;124;43mh2\u001b[39;49m\u001b[38;5;124;43m\"\u001b[39;49m\u001b[43m,\u001b[49m\u001b[43m \u001b[49m\u001b[43m{\u001b[49m\u001b[38;5;124;43m\"\u001b[39;49m\u001b[38;5;124;43mclass\u001b[39;49m\u001b[38;5;124;43m\"\u001b[39;49m\u001b[43m:\u001b[49m\u001b[43m \u001b[49m\u001b[38;5;124;43m\"\u001b[39;49m\u001b[38;5;124;43mcds-119 css-bku0rr cds-121\u001b[39;49m\u001b[38;5;124;43m\"\u001b[39;49m\u001b[43m}\u001b[49m\u001b[43m)\u001b[49m\u001b[38;5;241;43m.\u001b[39;49m\u001b[43mtext\u001b[49m\n\u001b[1;32m     56\u001b[0m     \u001b[38;5;66;03m# course_name = card.find(\"h2\", {\"class\": \"cds-33 css-bku0rr cds-35\"}).text \u001b[39;00m\n\u001b[1;32m     57\u001b[0m     \u001b[38;5;66;03m# course_name = card.find(\"h2\", {\"class\": \"ccds-33 css-bku0rr cds-35\"}).text \u001b[39;00m\n\u001b[1;32m     61\u001b[0m     course_info[\u001b[38;5;124m\"\u001b[39m\u001b[38;5;124mcourse_name\u001b[39m\u001b[38;5;124m\"\u001b[39m] \u001b[38;5;241m=\u001b[39m course_name \n",
      "\u001b[0;31mAttributeError\u001b[0m: 'NoneType' object has no attribute 'text'"
     ]
    }
   ],
   "source": [
    "topic = \"Data Science\"\n",
    "\n",
    "all_course_information = {}\n",
    "\n",
    "browser = webdriver.Chrome()\n",
    "\n",
    "for page_number in range(1,3):\n",
    "    print(f\"page_number: {page_number}\")\n",
    "    url = get_coursera_page_url_by_page_number(page_number, topic)\n",
    "    print(\"url\", url)\n",
    "\n",
    "    browser.get(url)\n",
    "    html = browser.page_source\n",
    "    course_card_soup = BeautifulSoup(html, 'lxml')\n",
    "    \n",
    "    course_information_dict = get_all_course_card_info(course_card_soup)\n",
    "    all_course_information.update(course_information_dict)\n",
    "    "
   ]
  },
  {
   "cell_type": "code",
   "execution_count": null,
   "id": "5545ebf1-db4c-40c4-a9b7-a2a0f874160a",
   "metadata": {},
   "outputs": [],
   "source": []
  },
  {
   "cell_type": "code",
   "execution_count": null,
   "id": "70bffc0e-d91f-41d5-9c5f-00f94b4b5073",
   "metadata": {},
   "outputs": [],
   "source": [
    "# #creating a dataframe gathering the list\n",
    "# coursera_df = pd.DataFrame({'course_title': course_title,\n",
    "#                    'course_URL':course_URL,\n",
    "#                   'course_organization': course_organization,\n",
    "#                   'course_Certificate_type': course_Certificate_type,\n",
    "#                   'course_rating':course_rating,\n",
    "#                    'course_difficulty':course_difficulty,\n",
    "#                    'course_students_enrolled':course_students_enrolled,\n",
    "#                     'course_icon':course_image_URL,\n",
    "#                   'image_name':course_image_name})\n",
    "\n",
    "# #writing into a .csv file\n",
    "# coursera_df.to_csv('Coursera_catalog.csv')"
   ]
  }
 ],
 "metadata": {
  "kernelspec": {
   "display_name": "webscraper-3.9.5",
   "language": "python",
   "name": "myenv"
  },
  "language_info": {
   "codemirror_mode": {
    "name": "ipython",
    "version": 3
   },
   "file_extension": ".py",
   "mimetype": "text/x-python",
   "name": "python",
   "nbconvert_exporter": "python",
   "pygments_lexer": "ipython3",
   "version": "3.9.5"
  }
 },
 "nbformat": 4,
 "nbformat_minor": 5
}
